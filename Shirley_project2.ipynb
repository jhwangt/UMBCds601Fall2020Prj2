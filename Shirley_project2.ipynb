{
  "nbformat": 4,
  "nbformat_minor": 0,
  "metadata": {
    "colab": {
      "name": "Untitled6.ipynb",
      "provenance": []
    },
    "kernelspec": {
      "name": "python3",
      "display_name": "Python 3"
    }
  },
  "cells": [
    {
      "cell_type": "markdown",
      "metadata": {
        "id": "nU43AetxV235"
      },
      "source": [
        "Data Source : https://opendata.maryland.gov/Energy-and-Environment/Historic-Clean-Energy-Grant-Awards/4jem-ugpy/data\n",
        "\n",
        "\n",
        "I was trying to check on data from different places like chicago, new york and maryland which finally led me to the link (https://opendata.maryland.gov/) thus ended up finding the data source.\n",
        "\n",
        "Renewable energy is collected from renewable resources which can be used repeatedly which leads to a positive life cycle of a human being. The goal of Historic Clean Energy Grant Program was to increase the amount of renewable energy generated in Maryland. The increase in the usage of renewable energy leads into less global warming and improves public health.\n",
        "\n",
        "Hypothesis 1 : I think that GeoThermal energy has got highest project cost over the years as wind and solar eneries are cheaper than any other form of energy - NO\n",
        "\n",
        "Hypothesis 2 : I think that the award amount increases yearly becuase if people are encouraged to re-use the renewable energy by providing award amount, then it might lead to less global warming being a good cause for the public - NO\n",
        "\n",
        "Number of Rows in the dataset : 12988\n",
        "Number of columns in the dataset : 18\n",
        "Data Size : 3.27MB"
      ]
    },
    {
      "cell_type": "code",
      "metadata": {
        "id": "PpNgi1d0SWtl"
      },
      "source": [
        "import matplotlib.pyplot as plt\n",
        "from matplotlib.pyplot import figure #library\n",
        "import pandas as pd\n",
        "import numpy as np\n",
        "import os"
      ],
      "execution_count": 1,
      "outputs": []
    },
    {
      "cell_type": "code",
      "metadata": {
        "id": "xxnDoG64Sp93",
        "outputId": "5dc1adb1-c30f-4def-8116-65c9575cd80e",
        "colab": {
          "base_uri": "https://localhost:8080/"
        }
      },
      "source": [
        "#reading the excel file as csv which consists of the dataset\n",
        "#citation - https://www.shanelynn.ie/using-pandas-dataframe-creating-editing-viewing-data-in-python/\n",
        "df = pd.read_csv(\"Historic_Clean_Energy_Grant_Awards.csv\",encoding = 'utf-8')\n",
        "print(type(df))"
      ],
      "execution_count": 2,
      "outputs": [
        {
          "output_type": "stream",
          "text": [
            "<class 'pandas.core.frame.DataFrame'>\n"
          ],
          "name": "stdout"
        }
      ]
    },
    {
      "cell_type": "code",
      "metadata": {
        "id": "IsqUku3TSs7l",
        "outputId": "f6e6bcab-46ff-42ec-95a7-832f91c958bd",
        "colab": {
          "base_uri": "https://localhost:8080/"
        }
      },
      "source": [
        "#counting the number of rows in the dataframe\n",
        "#citation - https://stackoverflow.com/questions/15943769/how-do-i-get-the-row-count-of-a-pandas-dataframe\n",
        "len(df.index)"
      ],
      "execution_count": 3,
      "outputs": [
        {
          "output_type": "execute_result",
          "data": {
            "text/plain": [
              "12988"
            ]
          },
          "metadata": {
            "tags": []
          },
          "execution_count": 3
        }
      ]
    },
    {
      "cell_type": "code",
      "metadata": {
        "id": "lHjzZXy0SxQj",
        "outputId": "b79f3a0d-88b6-40e8-a7c9-57be01b9a069",
        "colab": {
          "base_uri": "https://localhost:8080/"
        }
      },
      "source": [
        "#counting the number of columns in the dataframe\n",
        "#citation - https://stackoverflow.com/questions/15943769/how-do-i-get-the-row-count-of-a-pandas-dataframe\n",
        "len(df.columns)"
      ],
      "execution_count": 4,
      "outputs": [
        {
          "output_type": "execute_result",
          "data": {
            "text/plain": [
              "18"
            ]
          },
          "metadata": {
            "tags": []
          },
          "execution_count": 4
        }
      ]
    },
    {
      "cell_type": "code",
      "metadata": {
        "id": "VLYwQokUS0id",
        "outputId": "14d01dd0-9e33-4dd6-894f-3c2979e589d5",
        "colab": {
          "base_uri": "https://localhost:8080/",
          "height": 1000
        }
      },
      "source": [
        "#displaying the content in the dataframe\n",
        "df"
      ],
      "execution_count": 5,
      "outputs": [
        {
          "output_type": "execute_result",
          "data": {
            "text/html": [
              "<div>\n",
              "<style scoped>\n",
              "    .dataframe tbody tr th:only-of-type {\n",
              "        vertical-align: middle;\n",
              "    }\n",
              "\n",
              "    .dataframe tbody tr th {\n",
              "        vertical-align: top;\n",
              "    }\n",
              "\n",
              "    .dataframe thead th {\n",
              "        text-align: right;\n",
              "    }\n",
              "</style>\n",
              "<table border=\"1\" class=\"dataframe\">\n",
              "  <thead>\n",
              "    <tr style=\"text-align: right;\">\n",
              "      <th></th>\n",
              "      <th>Program Name</th>\n",
              "      <th>Technology</th>\n",
              "      <th>Application Received Date</th>\n",
              "      <th>Award Date</th>\n",
              "      <th>Award Amount</th>\n",
              "      <th>Actual Start Date</th>\n",
              "      <th>Actual End Date</th>\n",
              "      <th>Award Status</th>\n",
              "      <th>Last Invoice Received Date</th>\n",
              "      <th>Total Disbursed Amount</th>\n",
              "      <th>Capacity</th>\n",
              "      <th>Capacity Units</th>\n",
              "      <th>Total Project Cost</th>\n",
              "      <th>Ownership</th>\n",
              "      <th>City</th>\n",
              "      <th>Zip Code</th>\n",
              "      <th>County</th>\n",
              "      <th>Location</th>\n",
              "    </tr>\n",
              "  </thead>\n",
              "  <tbody>\n",
              "    <tr>\n",
              "      <th>0</th>\n",
              "      <td>Residential Clean Energy Grant Program</td>\n",
              "      <td>Geothermal</td>\n",
              "      <td>11/28/2014</td>\n",
              "      <td>12/09/2014</td>\n",
              "      <td>3,000.00</td>\n",
              "      <td>01/28/2014</td>\n",
              "      <td>04/11/2014</td>\n",
              "      <td>Award Complete</td>\n",
              "      <td>01/07/2015</td>\n",
              "      <td>3,000.00</td>\n",
              "      <td>3.5</td>\n",
              "      <td>ton</td>\n",
              "      <td>17,909.00</td>\n",
              "      <td>Purchased</td>\n",
              "      <td>North East</td>\n",
              "      <td>21901.0</td>\n",
              "      <td>Cecil</td>\n",
              "      <td>North East, Maryland 21901\\n(39.59943917900006...</td>\n",
              "    </tr>\n",
              "    <tr>\n",
              "      <th>1</th>\n",
              "      <td>Residential Clean Energy Grant Program</td>\n",
              "      <td>Geothermal</td>\n",
              "      <td>11/18/2014</td>\n",
              "      <td>12/09/2014</td>\n",
              "      <td>3,000.00</td>\n",
              "      <td>03/26/2014</td>\n",
              "      <td>09/02/2015</td>\n",
              "      <td>Award Complete</td>\n",
              "      <td>01/07/2015</td>\n",
              "      <td>3,000.00</td>\n",
              "      <td>4</td>\n",
              "      <td>ton</td>\n",
              "      <td>41,560.00</td>\n",
              "      <td>Purchased</td>\n",
              "      <td>Lutherville</td>\n",
              "      <td>21093.0</td>\n",
              "      <td>Baltimore</td>\n",
              "      <td>Lutherville, Maryland 21093\\n(39.4422195000000...</td>\n",
              "    </tr>\n",
              "    <tr>\n",
              "      <th>2</th>\n",
              "      <td>Residential Clean Energy Grant Program</td>\n",
              "      <td>Solar Hot Water</td>\n",
              "      <td>06/24/2014</td>\n",
              "      <td>12/09/2014</td>\n",
              "      <td>500.00</td>\n",
              "      <td>04/16/2014</td>\n",
              "      <td>06/12/2014</td>\n",
              "      <td>Award Complete</td>\n",
              "      <td>01/07/2015</td>\n",
              "      <td>500.00</td>\n",
              "      <td>64.3</td>\n",
              "      <td>sqft</td>\n",
              "      <td>50,000.00</td>\n",
              "      <td>Purchased</td>\n",
              "      <td>Forest Hill</td>\n",
              "      <td>21050.0</td>\n",
              "      <td>Harford</td>\n",
              "      <td>Forest Hill, Maryland 21050\\n(39.5734864610000...</td>\n",
              "    </tr>\n",
              "    <tr>\n",
              "      <th>3</th>\n",
              "      <td>Residential Clean Energy Grant Program</td>\n",
              "      <td>Geothermal</td>\n",
              "      <td>11/11/2014</td>\n",
              "      <td>12/09/2014</td>\n",
              "      <td>3,000.00</td>\n",
              "      <td>07/09/2014</td>\n",
              "      <td>09/17/2014</td>\n",
              "      <td>Award Complete</td>\n",
              "      <td>01/07/2015</td>\n",
              "      <td>3,000.00</td>\n",
              "      <td>5</td>\n",
              "      <td>ton</td>\n",
              "      <td>27,829.00</td>\n",
              "      <td>Purchased</td>\n",
              "      <td>Laurel</td>\n",
              "      <td>20723.0</td>\n",
              "      <td>Howard</td>\n",
              "      <td>Laurel, Maryland 20723\\n(39.127289156000074, -...</td>\n",
              "    </tr>\n",
              "    <tr>\n",
              "      <th>4</th>\n",
              "      <td>Residential Clean Energy Grant Program</td>\n",
              "      <td>Solar PV</td>\n",
              "      <td>09/05/2014</td>\n",
              "      <td>12/09/2014</td>\n",
              "      <td>1,000.00</td>\n",
              "      <td>07/30/2014</td>\n",
              "      <td>08/08/2014</td>\n",
              "      <td>Award Complete</td>\n",
              "      <td>01/07/2015</td>\n",
              "      <td>1,000.00</td>\n",
              "      <td>6.48</td>\n",
              "      <td>kW</td>\n",
              "      <td>22,750.00</td>\n",
              "      <td>Purchased</td>\n",
              "      <td>Gaithersburg</td>\n",
              "      <td>20878.0</td>\n",
              "      <td>Montgomery</td>\n",
              "      <td>Gaithersburg, Maryland 20878\\n(39.118316720000...</td>\n",
              "    </tr>\n",
              "    <tr>\n",
              "      <th>...</th>\n",
              "      <td>...</td>\n",
              "      <td>...</td>\n",
              "      <td>...</td>\n",
              "      <td>...</td>\n",
              "      <td>...</td>\n",
              "      <td>...</td>\n",
              "      <td>...</td>\n",
              "      <td>...</td>\n",
              "      <td>...</td>\n",
              "      <td>...</td>\n",
              "      <td>...</td>\n",
              "      <td>...</td>\n",
              "      <td>...</td>\n",
              "      <td>...</td>\n",
              "      <td>...</td>\n",
              "      <td>...</td>\n",
              "      <td>...</td>\n",
              "      <td>...</td>\n",
              "    </tr>\n",
              "    <tr>\n",
              "      <th>12983</th>\n",
              "      <td>Hist Residential Renewable Grants</td>\n",
              "      <td>Solar Hot Water</td>\n",
              "      <td>01/01/2005</td>\n",
              "      <td>01/01/2005</td>\n",
              "      <td>1,541.00</td>\n",
              "      <td>NaN</td>\n",
              "      <td>01/01/2005</td>\n",
              "      <td>Award Complete</td>\n",
              "      <td>NaN</td>\n",
              "      <td>0.00</td>\n",
              "      <td>50</td>\n",
              "      <td>sqft</td>\n",
              "      <td>9,568.00</td>\n",
              "      <td>Purchased</td>\n",
              "      <td>Annapolis</td>\n",
              "      <td>21401.0</td>\n",
              "      <td>Anne Arundel</td>\n",
              "      <td>Annapolis, Maryland 21401\\n(38.98329567400003,...</td>\n",
              "    </tr>\n",
              "    <tr>\n",
              "      <th>12984</th>\n",
              "      <td>Hist Residential Renewable Grants</td>\n",
              "      <td>Solar Hot Water</td>\n",
              "      <td>01/01/2005</td>\n",
              "      <td>01/01/2005</td>\n",
              "      <td>1,541.00</td>\n",
              "      <td>NaN</td>\n",
              "      <td>01/01/2005</td>\n",
              "      <td>Award Complete</td>\n",
              "      <td>NaN</td>\n",
              "      <td>0.00</td>\n",
              "      <td>50</td>\n",
              "      <td>sqft</td>\n",
              "      <td>9,568.00</td>\n",
              "      <td>Purchased</td>\n",
              "      <td>Annapolis</td>\n",
              "      <td>21401.0</td>\n",
              "      <td>Anne Arundel</td>\n",
              "      <td>Annapolis, Maryland 21401\\n(38.98329567400003,...</td>\n",
              "    </tr>\n",
              "    <tr>\n",
              "      <th>12985</th>\n",
              "      <td>Hist Residential Renewable Grants</td>\n",
              "      <td>Solar Hot Water</td>\n",
              "      <td>01/01/2005</td>\n",
              "      <td>01/01/2005</td>\n",
              "      <td>1,541.00</td>\n",
              "      <td>NaN</td>\n",
              "      <td>01/01/2005</td>\n",
              "      <td>Award Complete</td>\n",
              "      <td>NaN</td>\n",
              "      <td>0.00</td>\n",
              "      <td>50</td>\n",
              "      <td>sqft</td>\n",
              "      <td>9,568.00</td>\n",
              "      <td>Purchased</td>\n",
              "      <td>Annapolis</td>\n",
              "      <td>21401.0</td>\n",
              "      <td>Anne Arundel</td>\n",
              "      <td>Annapolis, Maryland 21401\\n(38.98329567400003,...</td>\n",
              "    </tr>\n",
              "    <tr>\n",
              "      <th>12986</th>\n",
              "      <td>Hist Residential Renewable Grants</td>\n",
              "      <td>Solar Hot Water</td>\n",
              "      <td>01/01/2005</td>\n",
              "      <td>01/01/2005</td>\n",
              "      <td>1,541.00</td>\n",
              "      <td>NaN</td>\n",
              "      <td>01/01/2005</td>\n",
              "      <td>Award Complete</td>\n",
              "      <td>NaN</td>\n",
              "      <td>0.00</td>\n",
              "      <td>50</td>\n",
              "      <td>sqft</td>\n",
              "      <td>9,568.00</td>\n",
              "      <td>Purchased</td>\n",
              "      <td>Annapolis</td>\n",
              "      <td>21401.0</td>\n",
              "      <td>Anne Arundel</td>\n",
              "      <td>Annapolis, Maryland 21401\\n(38.98329567400003,...</td>\n",
              "    </tr>\n",
              "    <tr>\n",
              "      <th>12987</th>\n",
              "      <td>Hist Residential Renewable Grants</td>\n",
              "      <td>Solar Hot Water</td>\n",
              "      <td>01/01/2005</td>\n",
              "      <td>01/01/2005</td>\n",
              "      <td>1,541.00</td>\n",
              "      <td>NaN</td>\n",
              "      <td>01/01/2005</td>\n",
              "      <td>Award Complete</td>\n",
              "      <td>NaN</td>\n",
              "      <td>0.00</td>\n",
              "      <td>50</td>\n",
              "      <td>sqft</td>\n",
              "      <td>9,568.00</td>\n",
              "      <td>Purchased</td>\n",
              "      <td>Annapolis</td>\n",
              "      <td>21401.0</td>\n",
              "      <td>Anne Arundel</td>\n",
              "      <td>Annapolis, Maryland 21401\\n(38.98329567400003,...</td>\n",
              "    </tr>\n",
              "  </tbody>\n",
              "</table>\n",
              "<p>12988 rows × 18 columns</p>\n",
              "</div>"
            ],
            "text/plain": [
              "                                 Program Name  ...                                           Location\n",
              "0      Residential Clean Energy Grant Program  ...  North East, Maryland 21901\\n(39.59943917900006...\n",
              "1      Residential Clean Energy Grant Program  ...  Lutherville, Maryland 21093\\n(39.4422195000000...\n",
              "2      Residential Clean Energy Grant Program  ...  Forest Hill, Maryland 21050\\n(39.5734864610000...\n",
              "3      Residential Clean Energy Grant Program  ...  Laurel, Maryland 20723\\n(39.127289156000074, -...\n",
              "4      Residential Clean Energy Grant Program  ...  Gaithersburg, Maryland 20878\\n(39.118316720000...\n",
              "...                                       ...  ...                                                ...\n",
              "12983       Hist Residential Renewable Grants  ...  Annapolis, Maryland 21401\\n(38.98329567400003,...\n",
              "12984       Hist Residential Renewable Grants  ...  Annapolis, Maryland 21401\\n(38.98329567400003,...\n",
              "12985       Hist Residential Renewable Grants  ...  Annapolis, Maryland 21401\\n(38.98329567400003,...\n",
              "12986       Hist Residential Renewable Grants  ...  Annapolis, Maryland 21401\\n(38.98329567400003,...\n",
              "12987       Hist Residential Renewable Grants  ...  Annapolis, Maryland 21401\\n(38.98329567400003,...\n",
              "\n",
              "[12988 rows x 18 columns]"
            ]
          },
          "metadata": {
            "tags": []
          },
          "execution_count": 5
        }
      ]
    },
    {
      "cell_type": "code",
      "metadata": {
        "id": "0OiBIMk4S3yO",
        "outputId": "fee86972-fb1d-4bed-d318-7552b3b1bc9b",
        "colab": {
          "base_uri": "https://localhost:8080/"
        }
      },
      "source": [
        "#returning the data type of each column\n",
        "df.dtypes"
      ],
      "execution_count": 6,
      "outputs": [
        {
          "output_type": "execute_result",
          "data": {
            "text/plain": [
              "Program Name                   object\n",
              "Technology                     object\n",
              "Application Received Date      object\n",
              "Award Date                     object\n",
              "Award Amount                   object\n",
              "Actual Start Date              object\n",
              "Actual End Date                object\n",
              "Award Status                   object\n",
              "Last Invoice Received Date     object\n",
              "Total Disbursed Amount         object\n",
              "Capacity                       object\n",
              "Capacity Units                 object\n",
              "Total Project Cost             object\n",
              "Ownership                      object\n",
              "City                           object\n",
              "Zip Code                      float64\n",
              "County                         object\n",
              "Location                       object\n",
              "dtype: object"
            ]
          },
          "metadata": {
            "tags": []
          },
          "execution_count": 6
        }
      ]
    },
    {
      "cell_type": "code",
      "metadata": {
        "id": "_gE-la-SS6kP",
        "outputId": "a07e12b2-c35c-4aca-e39f-08613fada1fe",
        "colab": {
          "base_uri": "https://localhost:8080/"
        }
      },
      "source": [
        "#counting the null values present in the dataframe\n",
        "#citation - https://stackoverflow.com/questions/26266362/how-to-count-the-nan-values-in-a-column-in-pandas-dataframe\n",
        "df.isnull().sum()"
      ],
      "execution_count": 7,
      "outputs": [
        {
          "output_type": "execute_result",
          "data": {
            "text/plain": [
              "Program Name                     0\n",
              "Technology                       2\n",
              "Application Received Date        3\n",
              "Award Date                       0\n",
              "Award Amount                     0\n",
              "Actual Start Date             1430\n",
              "Actual End Date                 58\n",
              "Award Status                     0\n",
              "Last Invoice Received Date    1326\n",
              "Total Disbursed Amount           0\n",
              "Capacity                         5\n",
              "Capacity Units                   0\n",
              "Total Project Cost             119\n",
              "Ownership                       95\n",
              "City                            95\n",
              "Zip Code                        95\n",
              "County                          97\n",
              "Location                         0\n",
              "dtype: int64"
            ]
          },
          "metadata": {
            "tags": []
          },
          "execution_count": 7
        }
      ]
    },
    {
      "cell_type": "code",
      "metadata": {
        "id": "z4EynS8aS9DP",
        "outputId": "aa95d660-77fe-46db-87d9-a62d2cf9987d",
        "colab": {
          "base_uri": "https://localhost:8080/"
        }
      },
      "source": [
        "df.isnull().sum().sum()"
      ],
      "execution_count": 8,
      "outputs": [
        {
          "output_type": "execute_result",
          "data": {
            "text/plain": [
              "3325"
            ]
          },
          "metadata": {
            "tags": []
          },
          "execution_count": 8
        }
      ]
    },
    {
      "cell_type": "code",
      "metadata": {
        "id": "G1IA1qCrTAko",
        "outputId": "04c571e6-4d4b-470a-8a52-45051dc641a2",
        "colab": {
          "base_uri": "https://localhost:8080/",
          "height": 1000
        }
      },
      "source": [
        "#replacing the occurances of commas in columns where commas are present\n",
        "#citation - https://stackoverflow.com/questions/25698710/replace-all-occurrences-of-a-string-in-a-pandas-dataframe-python\n",
        "df['Award Amount'] = df['Award Amount'].str.replace(',', '')\n",
        "df['Total Disbursed Amount'] = df['Total Disbursed Amount'].str.replace(',', '')\n",
        "df['Capacity'] = df['Capacity'].str.replace(',', '')\n",
        "df['Total Project Cost'] = df['Total Project Cost'].str.replace(',', '')\n",
        "df"
      ],
      "execution_count": 9,
      "outputs": [
        {
          "output_type": "execute_result",
          "data": {
            "text/html": [
              "<div>\n",
              "<style scoped>\n",
              "    .dataframe tbody tr th:only-of-type {\n",
              "        vertical-align: middle;\n",
              "    }\n",
              "\n",
              "    .dataframe tbody tr th {\n",
              "        vertical-align: top;\n",
              "    }\n",
              "\n",
              "    .dataframe thead th {\n",
              "        text-align: right;\n",
              "    }\n",
              "</style>\n",
              "<table border=\"1\" class=\"dataframe\">\n",
              "  <thead>\n",
              "    <tr style=\"text-align: right;\">\n",
              "      <th></th>\n",
              "      <th>Program Name</th>\n",
              "      <th>Technology</th>\n",
              "      <th>Application Received Date</th>\n",
              "      <th>Award Date</th>\n",
              "      <th>Award Amount</th>\n",
              "      <th>Actual Start Date</th>\n",
              "      <th>Actual End Date</th>\n",
              "      <th>Award Status</th>\n",
              "      <th>Last Invoice Received Date</th>\n",
              "      <th>Total Disbursed Amount</th>\n",
              "      <th>Capacity</th>\n",
              "      <th>Capacity Units</th>\n",
              "      <th>Total Project Cost</th>\n",
              "      <th>Ownership</th>\n",
              "      <th>City</th>\n",
              "      <th>Zip Code</th>\n",
              "      <th>County</th>\n",
              "      <th>Location</th>\n",
              "    </tr>\n",
              "  </thead>\n",
              "  <tbody>\n",
              "    <tr>\n",
              "      <th>0</th>\n",
              "      <td>Residential Clean Energy Grant Program</td>\n",
              "      <td>Geothermal</td>\n",
              "      <td>11/28/2014</td>\n",
              "      <td>12/09/2014</td>\n",
              "      <td>3000.00</td>\n",
              "      <td>01/28/2014</td>\n",
              "      <td>04/11/2014</td>\n",
              "      <td>Award Complete</td>\n",
              "      <td>01/07/2015</td>\n",
              "      <td>3000.00</td>\n",
              "      <td>3.5</td>\n",
              "      <td>ton</td>\n",
              "      <td>17909.00</td>\n",
              "      <td>Purchased</td>\n",
              "      <td>North East</td>\n",
              "      <td>21901.0</td>\n",
              "      <td>Cecil</td>\n",
              "      <td>North East, Maryland 21901\\n(39.59943917900006...</td>\n",
              "    </tr>\n",
              "    <tr>\n",
              "      <th>1</th>\n",
              "      <td>Residential Clean Energy Grant Program</td>\n",
              "      <td>Geothermal</td>\n",
              "      <td>11/18/2014</td>\n",
              "      <td>12/09/2014</td>\n",
              "      <td>3000.00</td>\n",
              "      <td>03/26/2014</td>\n",
              "      <td>09/02/2015</td>\n",
              "      <td>Award Complete</td>\n",
              "      <td>01/07/2015</td>\n",
              "      <td>3000.00</td>\n",
              "      <td>4</td>\n",
              "      <td>ton</td>\n",
              "      <td>41560.00</td>\n",
              "      <td>Purchased</td>\n",
              "      <td>Lutherville</td>\n",
              "      <td>21093.0</td>\n",
              "      <td>Baltimore</td>\n",
              "      <td>Lutherville, Maryland 21093\\n(39.4422195000000...</td>\n",
              "    </tr>\n",
              "    <tr>\n",
              "      <th>2</th>\n",
              "      <td>Residential Clean Energy Grant Program</td>\n",
              "      <td>Solar Hot Water</td>\n",
              "      <td>06/24/2014</td>\n",
              "      <td>12/09/2014</td>\n",
              "      <td>500.00</td>\n",
              "      <td>04/16/2014</td>\n",
              "      <td>06/12/2014</td>\n",
              "      <td>Award Complete</td>\n",
              "      <td>01/07/2015</td>\n",
              "      <td>500.00</td>\n",
              "      <td>64.3</td>\n",
              "      <td>sqft</td>\n",
              "      <td>50000.00</td>\n",
              "      <td>Purchased</td>\n",
              "      <td>Forest Hill</td>\n",
              "      <td>21050.0</td>\n",
              "      <td>Harford</td>\n",
              "      <td>Forest Hill, Maryland 21050\\n(39.5734864610000...</td>\n",
              "    </tr>\n",
              "    <tr>\n",
              "      <th>3</th>\n",
              "      <td>Residential Clean Energy Grant Program</td>\n",
              "      <td>Geothermal</td>\n",
              "      <td>11/11/2014</td>\n",
              "      <td>12/09/2014</td>\n",
              "      <td>3000.00</td>\n",
              "      <td>07/09/2014</td>\n",
              "      <td>09/17/2014</td>\n",
              "      <td>Award Complete</td>\n",
              "      <td>01/07/2015</td>\n",
              "      <td>3000.00</td>\n",
              "      <td>5</td>\n",
              "      <td>ton</td>\n",
              "      <td>27829.00</td>\n",
              "      <td>Purchased</td>\n",
              "      <td>Laurel</td>\n",
              "      <td>20723.0</td>\n",
              "      <td>Howard</td>\n",
              "      <td>Laurel, Maryland 20723\\n(39.127289156000074, -...</td>\n",
              "    </tr>\n",
              "    <tr>\n",
              "      <th>4</th>\n",
              "      <td>Residential Clean Energy Grant Program</td>\n",
              "      <td>Solar PV</td>\n",
              "      <td>09/05/2014</td>\n",
              "      <td>12/09/2014</td>\n",
              "      <td>1000.00</td>\n",
              "      <td>07/30/2014</td>\n",
              "      <td>08/08/2014</td>\n",
              "      <td>Award Complete</td>\n",
              "      <td>01/07/2015</td>\n",
              "      <td>1000.00</td>\n",
              "      <td>6.48</td>\n",
              "      <td>kW</td>\n",
              "      <td>22750.00</td>\n",
              "      <td>Purchased</td>\n",
              "      <td>Gaithersburg</td>\n",
              "      <td>20878.0</td>\n",
              "      <td>Montgomery</td>\n",
              "      <td>Gaithersburg, Maryland 20878\\n(39.118316720000...</td>\n",
              "    </tr>\n",
              "    <tr>\n",
              "      <th>...</th>\n",
              "      <td>...</td>\n",
              "      <td>...</td>\n",
              "      <td>...</td>\n",
              "      <td>...</td>\n",
              "      <td>...</td>\n",
              "      <td>...</td>\n",
              "      <td>...</td>\n",
              "      <td>...</td>\n",
              "      <td>...</td>\n",
              "      <td>...</td>\n",
              "      <td>...</td>\n",
              "      <td>...</td>\n",
              "      <td>...</td>\n",
              "      <td>...</td>\n",
              "      <td>...</td>\n",
              "      <td>...</td>\n",
              "      <td>...</td>\n",
              "      <td>...</td>\n",
              "    </tr>\n",
              "    <tr>\n",
              "      <th>12983</th>\n",
              "      <td>Hist Residential Renewable Grants</td>\n",
              "      <td>Solar Hot Water</td>\n",
              "      <td>01/01/2005</td>\n",
              "      <td>01/01/2005</td>\n",
              "      <td>1541.00</td>\n",
              "      <td>NaN</td>\n",
              "      <td>01/01/2005</td>\n",
              "      <td>Award Complete</td>\n",
              "      <td>NaN</td>\n",
              "      <td>0.00</td>\n",
              "      <td>50</td>\n",
              "      <td>sqft</td>\n",
              "      <td>9568.00</td>\n",
              "      <td>Purchased</td>\n",
              "      <td>Annapolis</td>\n",
              "      <td>21401.0</td>\n",
              "      <td>Anne Arundel</td>\n",
              "      <td>Annapolis, Maryland 21401\\n(38.98329567400003,...</td>\n",
              "    </tr>\n",
              "    <tr>\n",
              "      <th>12984</th>\n",
              "      <td>Hist Residential Renewable Grants</td>\n",
              "      <td>Solar Hot Water</td>\n",
              "      <td>01/01/2005</td>\n",
              "      <td>01/01/2005</td>\n",
              "      <td>1541.00</td>\n",
              "      <td>NaN</td>\n",
              "      <td>01/01/2005</td>\n",
              "      <td>Award Complete</td>\n",
              "      <td>NaN</td>\n",
              "      <td>0.00</td>\n",
              "      <td>50</td>\n",
              "      <td>sqft</td>\n",
              "      <td>9568.00</td>\n",
              "      <td>Purchased</td>\n",
              "      <td>Annapolis</td>\n",
              "      <td>21401.0</td>\n",
              "      <td>Anne Arundel</td>\n",
              "      <td>Annapolis, Maryland 21401\\n(38.98329567400003,...</td>\n",
              "    </tr>\n",
              "    <tr>\n",
              "      <th>12985</th>\n",
              "      <td>Hist Residential Renewable Grants</td>\n",
              "      <td>Solar Hot Water</td>\n",
              "      <td>01/01/2005</td>\n",
              "      <td>01/01/2005</td>\n",
              "      <td>1541.00</td>\n",
              "      <td>NaN</td>\n",
              "      <td>01/01/2005</td>\n",
              "      <td>Award Complete</td>\n",
              "      <td>NaN</td>\n",
              "      <td>0.00</td>\n",
              "      <td>50</td>\n",
              "      <td>sqft</td>\n",
              "      <td>9568.00</td>\n",
              "      <td>Purchased</td>\n",
              "      <td>Annapolis</td>\n",
              "      <td>21401.0</td>\n",
              "      <td>Anne Arundel</td>\n",
              "      <td>Annapolis, Maryland 21401\\n(38.98329567400003,...</td>\n",
              "    </tr>\n",
              "    <tr>\n",
              "      <th>12986</th>\n",
              "      <td>Hist Residential Renewable Grants</td>\n",
              "      <td>Solar Hot Water</td>\n",
              "      <td>01/01/2005</td>\n",
              "      <td>01/01/2005</td>\n",
              "      <td>1541.00</td>\n",
              "      <td>NaN</td>\n",
              "      <td>01/01/2005</td>\n",
              "      <td>Award Complete</td>\n",
              "      <td>NaN</td>\n",
              "      <td>0.00</td>\n",
              "      <td>50</td>\n",
              "      <td>sqft</td>\n",
              "      <td>9568.00</td>\n",
              "      <td>Purchased</td>\n",
              "      <td>Annapolis</td>\n",
              "      <td>21401.0</td>\n",
              "      <td>Anne Arundel</td>\n",
              "      <td>Annapolis, Maryland 21401\\n(38.98329567400003,...</td>\n",
              "    </tr>\n",
              "    <tr>\n",
              "      <th>12987</th>\n",
              "      <td>Hist Residential Renewable Grants</td>\n",
              "      <td>Solar Hot Water</td>\n",
              "      <td>01/01/2005</td>\n",
              "      <td>01/01/2005</td>\n",
              "      <td>1541.00</td>\n",
              "      <td>NaN</td>\n",
              "      <td>01/01/2005</td>\n",
              "      <td>Award Complete</td>\n",
              "      <td>NaN</td>\n",
              "      <td>0.00</td>\n",
              "      <td>50</td>\n",
              "      <td>sqft</td>\n",
              "      <td>9568.00</td>\n",
              "      <td>Purchased</td>\n",
              "      <td>Annapolis</td>\n",
              "      <td>21401.0</td>\n",
              "      <td>Anne Arundel</td>\n",
              "      <td>Annapolis, Maryland 21401\\n(38.98329567400003,...</td>\n",
              "    </tr>\n",
              "  </tbody>\n",
              "</table>\n",
              "<p>12988 rows × 18 columns</p>\n",
              "</div>"
            ],
            "text/plain": [
              "                                 Program Name  ...                                           Location\n",
              "0      Residential Clean Energy Grant Program  ...  North East, Maryland 21901\\n(39.59943917900006...\n",
              "1      Residential Clean Energy Grant Program  ...  Lutherville, Maryland 21093\\n(39.4422195000000...\n",
              "2      Residential Clean Energy Grant Program  ...  Forest Hill, Maryland 21050\\n(39.5734864610000...\n",
              "3      Residential Clean Energy Grant Program  ...  Laurel, Maryland 20723\\n(39.127289156000074, -...\n",
              "4      Residential Clean Energy Grant Program  ...  Gaithersburg, Maryland 20878\\n(39.118316720000...\n",
              "...                                       ...  ...                                                ...\n",
              "12983       Hist Residential Renewable Grants  ...  Annapolis, Maryland 21401\\n(38.98329567400003,...\n",
              "12984       Hist Residential Renewable Grants  ...  Annapolis, Maryland 21401\\n(38.98329567400003,...\n",
              "12985       Hist Residential Renewable Grants  ...  Annapolis, Maryland 21401\\n(38.98329567400003,...\n",
              "12986       Hist Residential Renewable Grants  ...  Annapolis, Maryland 21401\\n(38.98329567400003,...\n",
              "12987       Hist Residential Renewable Grants  ...  Annapolis, Maryland 21401\\n(38.98329567400003,...\n",
              "\n",
              "[12988 rows x 18 columns]"
            ]
          },
          "metadata": {
            "tags": []
          },
          "execution_count": 9
        }
      ]
    },
    {
      "cell_type": "code",
      "metadata": {
        "id": "INquWapQTDo_",
        "outputId": "e2373b08-0087-4fe1-d285-f068526f8c29",
        "colab": {
          "base_uri": "https://localhost:8080/"
        }
      },
      "source": [
        "#converting the data type of columns to float and dates into date data type in the dataframe\n",
        "#citation - https://stackoverflow.com/questions/16852911/how-do-i-convert-dates-in-a-pandas-data-frame-to-a-date-data-type\n",
        "df['Award Amount'] = df['Award Amount'].astype(float)\n",
        "df['Total Disbursed Amount'] = df['Total Disbursed Amount'].astype(float)\n",
        "df['Capacity'] = df['Capacity'].astype(float)\n",
        "df['Application Received Date'] = df['Application Received Date'].astype('datetime64[ns]')\n",
        "df['Award Date'] = df['Award Date'].astype('datetime64[ns]')\n",
        "df['Actual Start Date'] = df['Actual Start Date'].astype('datetime64[ns]')\n",
        "df['Actual End Date'] = df['Actual End Date'].astype('datetime64[ns]')\n",
        "df['Total Project Cost'] = df['Total Project Cost'].astype(float)\n",
        "df['Last Invoice Received Date'] = df['Last Invoice Received Date'].astype('datetime64[ns]')\n",
        "df.dtypes"
      ],
      "execution_count": 10,
      "outputs": [
        {
          "output_type": "execute_result",
          "data": {
            "text/plain": [
              "Program Name                          object\n",
              "Technology                            object\n",
              "Application Received Date     datetime64[ns]\n",
              "Award Date                    datetime64[ns]\n",
              "Award Amount                         float64\n",
              "Actual Start Date             datetime64[ns]\n",
              "Actual End Date               datetime64[ns]\n",
              "Award Status                          object\n",
              "Last Invoice Received Date    datetime64[ns]\n",
              "Total Disbursed Amount               float64\n",
              "Capacity                             float64\n",
              "Capacity Units                        object\n",
              "Total Project Cost                   float64\n",
              "Ownership                             object\n",
              "City                                  object\n",
              "Zip Code                             float64\n",
              "County                                object\n",
              "Location                              object\n",
              "dtype: object"
            ]
          },
          "metadata": {
            "tags": []
          },
          "execution_count": 10
        }
      ]
    },
    {
      "cell_type": "code",
      "metadata": {
        "id": "Gzokh0gTTHHU"
      },
      "source": [
        "#filling the missing values\n",
        "#citation - https://www.geeksforgeeks.org/python-pandas-dataframe-fillna-to-replace-null-values-in-dataframe/\n",
        "df['Technology'].fillna( method ='ffill', inplace = True)\n",
        "df['Application Received Date'].fillna( method ='ffill', inplace = True)\n",
        "df['Actual Start Date'].fillna( method ='ffill', inplace = True)\n",
        "df['Actual End Date'].fillna( method ='ffill', inplace = True)\n",
        "df['Last Invoice Received Date'].fillna( method ='ffill', inplace = True)\n",
        "df['Capacity'].fillna( method ='ffill', inplace = True)\n",
        "df['Total Project Cost'].fillna( method ='ffill', inplace = True)\n",
        "df['Ownership'].fillna( method ='ffill', inplace = True)\n",
        "df['City'].fillna( method ='ffill', inplace = True)\n",
        "df['Zip Code'].fillna( method ='ffill', inplace = True)\n",
        "df['County'].fillna( method ='ffill', inplace = True)"
      ],
      "execution_count": 11,
      "outputs": []
    },
    {
      "cell_type": "code",
      "metadata": {
        "id": "5TdKCw4jTLJc",
        "outputId": "1c56fd21-a0e6-4219-b8cd-3935b2aadae1",
        "colab": {
          "base_uri": "https://localhost:8080/"
        }
      },
      "source": [
        "df.isnull().sum()"
      ],
      "execution_count": 12,
      "outputs": [
        {
          "output_type": "execute_result",
          "data": {
            "text/plain": [
              "Program Name                  0\n",
              "Technology                    0\n",
              "Application Received Date     0\n",
              "Award Date                    0\n",
              "Award Amount                  0\n",
              "Actual Start Date             0\n",
              "Actual End Date               0\n",
              "Award Status                  0\n",
              "Last Invoice Received Date    0\n",
              "Total Disbursed Amount        0\n",
              "Capacity                      0\n",
              "Capacity Units                0\n",
              "Total Project Cost            0\n",
              "Ownership                     0\n",
              "City                          0\n",
              "Zip Code                      0\n",
              "County                        0\n",
              "Location                      0\n",
              "dtype: int64"
            ]
          },
          "metadata": {
            "tags": []
          },
          "execution_count": 12
        }
      ]
    },
    {
      "cell_type": "code",
      "metadata": {
        "id": "-E7Wx-xQTNs3"
      },
      "source": [
        "#converting the data type of column from float to int\n",
        "#citation - https://stackoverflow.com/questions/21291259/convert-floats-to-ints-in-pandas\n",
        "df['Zip Code'] = df['Zip Code'].apply(np.int64)"
      ],
      "execution_count": 13,
      "outputs": []
    },
    {
      "cell_type": "code",
      "metadata": {
        "id": "cOm2w8BITQ6m"
      },
      "source": [
        "#creating a new column for year to try to analyze better and get a better visualization\n",
        "#citation - https://stackoverflow.com/questions/30405413/python-pandas-extract-year-from-datetime-dfyear-dfdate-year-is-not\n",
        "df['Year'] = df['Award Date'].dt.year"
      ],
      "execution_count": 14,
      "outputs": []
    },
    {
      "cell_type": "code",
      "metadata": {
        "id": "hlvxSeD0TUbU",
        "outputId": "a372f58e-7d10-4e7f-8b39-f21456dcc09b",
        "colab": {
          "base_uri": "https://localhost:8080/"
        }
      },
      "source": [
        "#checking if any columns have 0 values in them\n",
        "#citation - https://stackoverflow.com/questions/48570797/check-if-pandas-column-contains-other-values-other-than-zero\n",
        "(df != 0).all()"
      ],
      "execution_count": 15,
      "outputs": [
        {
          "output_type": "execute_result",
          "data": {
            "text/plain": [
              "Program Name                   True\n",
              "Technology                     True\n",
              "Application Received Date      True\n",
              "Award Date                     True\n",
              "Award Amount                  False\n",
              "Actual Start Date              True\n",
              "Actual End Date                True\n",
              "Award Status                   True\n",
              "Last Invoice Received Date     True\n",
              "Total Disbursed Amount        False\n",
              "Capacity                      False\n",
              "Capacity Units                 True\n",
              "Total Project Cost             True\n",
              "Ownership                      True\n",
              "City                           True\n",
              "Zip Code                       True\n",
              "County                         True\n",
              "Location                       True\n",
              "Year                           True\n",
              "dtype: bool"
            ]
          },
          "metadata": {
            "tags": []
          },
          "execution_count": 15
        }
      ]
    },
    {
      "cell_type": "code",
      "metadata": {
        "id": "bdlTrKHeTXP2"
      },
      "source": [
        "#replacing all the 0 values present in the columns to its respective mean values\n",
        "#citation - https://stackoverflow.com/questions/37506488/python-pandas-dataframe-replace-0-with-median-value\n",
        "a = df['Total Disbursed Amount'].mean(skipna=True)\n",
        "b = df['Award Amount'].mean(skipna=True)\n",
        "c = df['Capacity'].mean(skipna=True)"
      ],
      "execution_count": 16,
      "outputs": []
    },
    {
      "cell_type": "code",
      "metadata": {
        "id": "aX-maTbQTbBQ"
      },
      "source": [
        "#citation - https://stackoverflow.com/questions/37506488/python-pandas-dataframe-replace-0-with-median-value\n",
        "df['Total Disbursed Amount'] = df['Total Disbursed Amount'].replace(0,a) \n",
        "df['Award Amount'] = df['Award Amount'].replace(0,b)\n",
        "df['Capacity'] = df['Capacity'].replace(0,c)"
      ],
      "execution_count": 17,
      "outputs": []
    },
    {
      "cell_type": "code",
      "metadata": {
        "id": "kMSSnDMcTemV",
        "outputId": "4eb34762-d5c6-45c6-d450-104ee7e6e945",
        "colab": {
          "base_uri": "https://localhost:8080/",
          "height": 297
        }
      },
      "source": [
        "#generating the statistics of the columns Award Amount, Disbursed amount, Capacity, Total Project Cost in my dataset\n",
        "#citation - https://pandas.pydata.org/pandas-docs/stable/reference/api/pandas.DataFrame.describe.html\n",
        "df.describe()"
      ],
      "execution_count": 18,
      "outputs": [
        {
          "output_type": "execute_result",
          "data": {
            "text/html": [
              "<div>\n",
              "<style scoped>\n",
              "    .dataframe tbody tr th:only-of-type {\n",
              "        vertical-align: middle;\n",
              "    }\n",
              "\n",
              "    .dataframe tbody tr th {\n",
              "        vertical-align: top;\n",
              "    }\n",
              "\n",
              "    .dataframe thead th {\n",
              "        text-align: right;\n",
              "    }\n",
              "</style>\n",
              "<table border=\"1\" class=\"dataframe\">\n",
              "  <thead>\n",
              "    <tr style=\"text-align: right;\">\n",
              "      <th></th>\n",
              "      <th>Award Amount</th>\n",
              "      <th>Total Disbursed Amount</th>\n",
              "      <th>Capacity</th>\n",
              "      <th>Total Project Cost</th>\n",
              "      <th>Zip Code</th>\n",
              "      <th>Year</th>\n",
              "    </tr>\n",
              "  </thead>\n",
              "  <tbody>\n",
              "    <tr>\n",
              "      <th>count</th>\n",
              "      <td>12988.000000</td>\n",
              "      <td>12988.000000</td>\n",
              "      <td>12988.000000</td>\n",
              "      <td>1.298800e+04</td>\n",
              "      <td>12988.000000</td>\n",
              "      <td>12988.000000</td>\n",
              "    </tr>\n",
              "    <tr>\n",
              "      <th>mean</th>\n",
              "      <td>2597.912877</td>\n",
              "      <td>2456.409061</td>\n",
              "      <td>3606.905710</td>\n",
              "      <td>3.205710e+04</td>\n",
              "      <td>21151.606714</td>\n",
              "      <td>2011.514398</td>\n",
              "    </tr>\n",
              "    <tr>\n",
              "      <th>std</th>\n",
              "      <td>3754.009861</td>\n",
              "      <td>3508.167731</td>\n",
              "      <td>12781.542138</td>\n",
              "      <td>4.582865e+04</td>\n",
              "      <td>366.103773</td>\n",
              "      <td>1.894506</td>\n",
              "    </tr>\n",
              "    <tr>\n",
              "      <th>min</th>\n",
              "      <td>25.850000</td>\n",
              "      <td>25.850000</td>\n",
              "      <td>0.108000</td>\n",
              "      <td>5.345400e+02</td>\n",
              "      <td>20145.000000</td>\n",
              "      <td>2005.000000</td>\n",
              "    </tr>\n",
              "    <tr>\n",
              "      <th>25%</th>\n",
              "      <td>1000.000000</td>\n",
              "      <td>1000.000000</td>\n",
              "      <td>4.000000</td>\n",
              "      <td>1.302900e+04</td>\n",
              "      <td>20872.000000</td>\n",
              "      <td>2010.000000</td>\n",
              "    </tr>\n",
              "    <tr>\n",
              "      <th>50%</th>\n",
              "      <td>1759.500000</td>\n",
              "      <td>2000.000000</td>\n",
              "      <td>6.000000</td>\n",
              "      <td>2.626800e+04</td>\n",
              "      <td>21074.000000</td>\n",
              "      <td>2012.000000</td>\n",
              "    </tr>\n",
              "    <tr>\n",
              "      <th>75%</th>\n",
              "      <td>3000.000000</td>\n",
              "      <td>3000.000000</td>\n",
              "      <td>17.500000</td>\n",
              "      <td>3.793685e+04</td>\n",
              "      <td>21401.000000</td>\n",
              "      <td>2013.000000</td>\n",
              "    </tr>\n",
              "    <tr>\n",
              "      <th>max</th>\n",
              "      <td>110000.000000</td>\n",
              "      <td>75000.000000</td>\n",
              "      <td>83220.000000</td>\n",
              "      <td>2.000000e+06</td>\n",
              "      <td>22172.000000</td>\n",
              "      <td>2014.000000</td>\n",
              "    </tr>\n",
              "  </tbody>\n",
              "</table>\n",
              "</div>"
            ],
            "text/plain": [
              "        Award Amount  Total Disbursed Amount  ...      Zip Code          Year\n",
              "count   12988.000000            12988.000000  ...  12988.000000  12988.000000\n",
              "mean     2597.912877             2456.409061  ...  21151.606714   2011.514398\n",
              "std      3754.009861             3508.167731  ...    366.103773      1.894506\n",
              "min        25.850000               25.850000  ...  20145.000000   2005.000000\n",
              "25%      1000.000000             1000.000000  ...  20872.000000   2010.000000\n",
              "50%      1759.500000             2000.000000  ...  21074.000000   2012.000000\n",
              "75%      3000.000000             3000.000000  ...  21401.000000   2013.000000\n",
              "max    110000.000000            75000.000000  ...  22172.000000   2014.000000\n",
              "\n",
              "[8 rows x 6 columns]"
            ]
          },
          "metadata": {
            "tags": []
          },
          "execution_count": 18
        }
      ]
    },
    {
      "cell_type": "code",
      "metadata": {
        "id": "kspzkcpPThVX",
        "outputId": "2c2b0ff6-06d5-4f7a-a133-d81490fdc495",
        "colab": {
          "base_uri": "https://localhost:8080/",
          "height": 623
        }
      },
      "source": [
        "#plotting a histogram for analyzing the average of total project cost\n",
        "#citation - https://medium.com/python-pandemonium/data-visualization-in-python-histogram-in-matplotlib-dce38f49f89c\n",
        "df['Total Project Cost'].hist(bins = 100, figsize = (10,10))\n",
        "plt.xlabel('Project Cost')\n",
        "plt.ylabel('Count')"
      ],
      "execution_count": 19,
      "outputs": [
        {
          "output_type": "execute_result",
          "data": {
            "text/plain": [
              "Text(0, 0.5, 'Count')"
            ]
          },
          "metadata": {
            "tags": []
          },
          "execution_count": 19
        },
        {
          "output_type": "display_data",
          "data": {
            "image/png": "[encoded data removed]",
            "text/plain": [
              "<Figure size 720x720 with 1 Axes>"
            ]
          },
          "metadata": {
            "tags": [],
            "needs_background": "light"
          }
        }
      ]
    },
    {
      "cell_type": "code",
      "metadata": {
        "id": "XwJU8z0YTkzM",
        "outputId": "339b884e-235c-4751-e252-47b43c00bae9",
        "colab": {
          "base_uri": "https://localhost:8080/",
          "height": 623
        }
      },
      "source": [
        "#plotting a histogram for analysing the awards granted in each year\n",
        "#citation - https://medium.com/python-pandemonium/data-visualization-in-python-histogram-in-matplotlib-dce38f49f89c\n",
        "df['Year'].hist(figsize = (10,10))\n",
        "plt.xlabel('Awarded Year')\n",
        "plt.ylabel('Count')"
      ],
      "execution_count": 20,
      "outputs": [
        {
          "output_type": "execute_result",
          "data": {
            "text/plain": [
              "Text(0, 0.5, 'Count')"
            ]
          },
          "metadata": {
            "tags": []
          },
          "execution_count": 20
        },
        {
          "output_type": "display_data",
          "data": {
            "image/png": "[encoded data removed]",
            "text/plain": [
              "<Figure size 720x720 with 1 Axes>"
            ]
          },
          "metadata": {
            "tags": [],
            "needs_background": "light"
          }
        }
      ]
    },
    {
      "cell_type": "markdown",
      "metadata": {
        "id": "H8w41hzeWJqn"
      },
      "source": [
        "Hypothesis 1 : I think that GeoThermal energy has got highest project cost over the years as wind and solar eneries are cheaper than any other form of energy - NO\n",
        "\n",
        "Conclusion : After examining for the hypothesis 1, as per the graph, wind energy has got the highest total project cost when compared to GeoThermal energy. It can be due to the higher capacity of wind energy being used too."
      ]
    },
    {
      "cell_type": "code",
      "metadata": {
        "id": "1hOKgc-aTyfe",
        "outputId": "ae482c0f-4701-4122-aa6f-ecc1f7390caf",
        "colab": {
          "base_uri": "https://localhost:8080/",
          "height": 621
        }
      },
      "source": [
        "plt.figure(figsize=(10,10))\n",
        "plt.bar(df['Technology'], df['Total Project Cost'])\n",
        "plt.title('Highest Project Amount')\n",
        "plt.xlabel('Energy')\n",
        "plt.ylabel('Project Cost')\n",
        "plt.show()"
      ],
      "execution_count": 21,
      "outputs": [
        {
          "output_type": "display_data",
          "data": {
            "image/png": "[encoded data removed]",
            "text/plain": [
              "<Figure size 720x720 with 1 Axes>"
            ]
          },
          "metadata": {
            "tags": [],
            "needs_background": "light"
          }
        }
      ]
    },
    {
      "cell_type": "markdown",
      "metadata": {
        "id": "rzzJS0cQWc1l"
      },
      "source": [
        "Hypothesis 2 : I think that the award amount increases yearly becuase if people are encouraged to re-use the renewable energy by providing award amount, then it might lead to less global warming being a good cause for the public - NO\n",
        "\n",
        "Conclusion : After examining the graph for hypothesis 2, we can see that the Award Amount is decreasing after 2012 so the hypothesis for the Award Amount increasing yearly is false."
      ]
    },
    {
      "cell_type": "code",
      "metadata": {
        "id": "KN1SBY7hTzXF",
        "outputId": "ce483d7a-75c4-4017-b01a-eaef6b77171b",
        "colab": {
          "base_uri": "https://localhost:8080/",
          "height": 621
        }
      },
      "source": [
        "plt.figure(figsize=(10,10))\n",
        "plt.bar(df['Year'], df['Award Amount'])\n",
        "plt.title('Award Amount Details')\n",
        "plt.xlabel('Year')\n",
        "plt.ylabel('Award Amount')\n",
        "plt.show()"
      ],
      "execution_count": 22,
      "outputs": [
        {
          "output_type": "display_data",
          "data": {
            "image/png": "[encoded data removed]",
            "text/plain": [
              "<Figure size 720x720 with 1 Axes>"
            ]
          },
          "metadata": {
            "tags": [],
            "needs_background": "light"
          }
        }
      ]
    },
    {
      "cell_type": "markdown",
      "metadata": {
        "id": "mx9xPsV2WVuj"
      },
      "source": [
        "In this project, I learnt to clean the data, handling the data, fill the missing values, find the zero values and replace them, remove special characters in the data to make it more consistent, data visualization and how to analyse and validate the hypotheses."
      ]
    }
  ]
}
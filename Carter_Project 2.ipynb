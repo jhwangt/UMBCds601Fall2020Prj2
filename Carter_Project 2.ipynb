{
 "cells": [
  {
   "cell_type": "markdown",
   "metadata": {},
   "source": [
    "# The three hypotheses/questions we have for this data are:\n",
    "##        1. Did NFL home teams perform better in 2018?\n",
    "##        2. Did Offenses get better as the season progressed?\n",
    "##        3. Are passes thrown to the right side of the field more? And how do throws to the         middle and right compare to throws to the left in terms of yards in the air?"
   ]
  },
  {
   "cell_type": "markdown",
   "metadata": {},
   "source": [
    "The data for this notebook can be found at https://www.kaggle.com/maxhorowitz/nflplaybyplay2009to2016?select=NFL+Play+by+Play+2009-2018+%28v5%29.csv\n",
    "Please download the csv that has the NFL games from 2009 to 2018"
   ]
  },
  {
   "cell_type": "code",
   "execution_count": null,
   "metadata": {},
   "outputs": [],
   "source": [
    "import pandas as pd\n",
    "from datetime import datetime\n",
    "import matplotlib.pyplot as plt\n",
    "import requests\n",
    "from io import StringIO"
   ]
  },
  {
   "cell_type": "code",
   "execution_count": null,
   "metadata": {},
   "outputs": [],
   "source": [
    "#This code is not working so will hav to download the file to your computer\n",
    "\n",
    "#Read the csv into a pandas dataframe\n",
    "#orig_url = 'https://drive.google.com/file/d/1JHf7_TE1t35QXq_2n3VYngD9BhMpTUl1/view?usp=sharing'\n",
    "#file_id = orig_url.split('/')[-2]\n",
    "#dwn_url='https://drive.google.com/uc?export=download&id=' + file_id\n",
    "#url = requests.get(dwn_url).text\n",
    "#csv_raw = StringIO(url)\n",
    "#NFL = pd.read_csv(csv_raw)"
   ]
  },
  {
   "cell_type": "code",
   "execution_count": null,
   "metadata": {},
   "outputs": [],
   "source": [
    "#Take the location of the downloaded csv on your computer and enter it into the input\n",
    "file = input('Enter the location of the downloaded CSV: ')"
   ]
  },
  {
   "cell_type": "code",
   "execution_count": null,
   "metadata": {},
   "outputs": [],
   "source": [
    "NFL = pd.read_csv(file)"
   ]
  },
  {
   "cell_type": "markdown",
   "metadata": {},
   "source": [
    "### First we entered the location of the NFL CSV which will then be read into a pandas dataframe. Next we will create a dataframe to only include games that are from 2018. "
   ]
  },
  {
   "cell_type": "code",
   "execution_count": null,
   "metadata": {},
   "outputs": [],
   "source": [
    "NFL2018 = NFL.copy()\n",
    "NFL2018['game_date'] = pd.to_datetime(NFL2018['game_date'], format = '%Y-%m-%d')\n",
    "NFL2018 = NFL2018.loc[NFL2018['game_date'].astype(str).str[:4] == '2018']\n",
    "NFL2018"
   ]
  },
  {
   "cell_type": "markdown",
   "metadata": {},
   "source": [
    "## Each play of a certain game has that game's game_id. Next we will find the last play of each game to find the final score and compare how many times the home team won vs how many times the away team won. "
   ]
  },
  {
   "cell_type": "code",
   "execution_count": null,
   "metadata": {},
   "outputs": [],
   "source": [
    "game = NFL2018.groupby('game_id')\n",
    "FinalResults = game.last()\n",
    "Scores = FinalResults[['total_home_score','total_away_score']]\n",
    "Scores"
   ]
  },
  {
   "cell_type": "code",
   "execution_count": null,
   "metadata": {},
   "outputs": [],
   "source": [
    "# We will query here to count the instances where the home team won and the instances where the away team won\n",
    "HomeWins = len(Scores.query('total_home_score > total_away_score'))\n",
    "AwayWins = len(Scores.query('total_home_score < total_away_score'))"
   ]
  },
  {
   "cell_type": "code",
   "execution_count": null,
   "metadata": {},
   "outputs": [],
   "source": [
    "# Now visualize the counts of home vs. away wins in a bar chart\n",
    "teams = ['Home', 'Away']\n",
    "results = [HomeWins, AwayWins]\n",
    "plt.bar(teams,results)\n",
    "plt.xlabel('Home/Away')\n",
    "plt.ylabel('Number of Wins')\n",
    "plt.title('2018 NFL Home vs. Away Team Wins')\n",
    "plt.show()"
   ]
  },
  {
   "cell_type": "markdown",
   "metadata": {},
   "source": [
    "### It looks like it was advantageous to be the Home team in 2018."
   ]
  },
  {
   "cell_type": "markdown",
   "metadata": {},
   "source": [
    "## Next we will try to see if offenses gained momentum throughout the year, comparing the total points scored in the first half of the year vs the second."
   ]
  },
  {
   "cell_type": "code",
   "execution_count": null,
   "metadata": {},
   "outputs": [],
   "source": [
    "totalscore = Scores['total_home_score'] + Scores['total_away_score']"
   ]
  },
  {
   "cell_type": "code",
   "execution_count": null,
   "metadata": {},
   "outputs": [],
   "source": [
    "Scores2 = Scores.copy()\n",
    "Scores2['points_scored'] = totalscore"
   ]
  },
  {
   "cell_type": "code",
   "execution_count": null,
   "metadata": {},
   "outputs": [],
   "source": [
    "Scores2"
   ]
  },
  {
   "cell_type": "code",
   "execution_count": null,
   "metadata": {},
   "outputs": [],
   "source": [
    "# We will take the total points scored from the first half of the dataframe and compare it to the total in the second half\n",
    "First_Half_Scores = Scores2[:112]\n",
    "Second_Half_Scores = Scores2[112:]"
   ]
  },
  {
   "cell_type": "code",
   "execution_count": null,
   "metadata": {},
   "outputs": [],
   "source": [
    "# Now we visualize the difference in points scored in a bar chart\n",
    "hlfs = ['First Half', 'Second Half']\n",
    "points = [First_Half_Scores['points_scored'].sum(), Second_Half_Scores['points_scored'].sum()]\n",
    "plt.bar(hlfs,points)\n",
    "plt.xlabel('First/Second Half of the year')\n",
    "plt.ylabel('Total Points Scored')\n",
    "plt.title('2018 Points Scored in First Half vs. Second Half of Season')\n",
    "plt.show()"
   ]
  },
  {
   "cell_type": "markdown",
   "metadata": {},
   "source": [
    "### This is surprising since many believe offenses struggle to reach their potential in the beginning of the season"
   ]
  },
  {
   "cell_type": "markdown",
   "metadata": {},
   "source": [
    "### A better way to measure offensive efficiency throughout the year may be to find the average yards per play of the offenses week by week as a multitude of different factors other than offensive efficiency can contribute to the points scored we measured earlier. "
   ]
  },
  {
   "cell_type": "code",
   "execution_count": null,
   "metadata": {},
   "outputs": [],
   "source": [
    "# To better measure offensive efficiency we can average the yards per play on play types that are a run and pass as kickoffs, punts, and field goals are not done by the offense."
   ]
  },
  {
   "cell_type": "code",
   "execution_count": null,
   "metadata": {},
   "outputs": [],
   "source": [
    "#Create a dataframe called plays that is indexed by the play type\n",
    "Plays = NFL2018.set_index('play_type')"
   ]
  },
  {
   "cell_type": "code",
   "execution_count": null,
   "metadata": {},
   "outputs": [],
   "source": [
    "#Now create the offensive plays dataframe by including only plays that were a run or a pass\n",
    "Off_Plays = Plays.loc[[\"pass\", \"run\"]]"
   ]
  },
  {
   "cell_type": "code",
   "execution_count": null,
   "metadata": {},
   "outputs": [],
   "source": [
    "#Sort the df by date \n",
    "Off_Plays = Off_Plays.sort_values(by=\"game_date\")"
   ]
  },
  {
   "cell_type": "code",
   "execution_count": null,
   "metadata": {},
   "outputs": [],
   "source": [
    "# Get a list of the dates of games so that we can calculate the average yards per play per week\n",
    "Off_Plays.game_date.unique()"
   ]
  },
  {
   "cell_type": "code",
   "execution_count": null,
   "metadata": {},
   "outputs": [],
   "source": [
    "# The NFL throughout the season has thursday night games and monday night games so we will combine those games \n",
    "# into the week of games they belong to to get average yards per play of all the games played that week"
   ]
  },
  {
   "cell_type": "code",
   "execution_count": null,
   "metadata": {},
   "outputs": [],
   "source": [
    "# Change the game_date type to string to more easily group together games on certain dates\n",
    "Off_Plays['game_date']= Off_Plays['game_date'].astype(str)"
   ]
  },
  {
   "cell_type": "code",
   "execution_count": null,
   "metadata": {},
   "outputs": [],
   "source": [
    "# index the Off_plays df by the game date\n",
    "Off_Plays = Off_Plays.set_index('game_date')"
   ]
  },
  {
   "cell_type": "code",
   "execution_count": null,
   "metadata": {},
   "outputs": [],
   "source": [
    "#Week 1 average yards per play\n",
    "week1 = Off_Plays.loc[['2018-09-06', '2018-09-09', '2018-09-10']]\n",
    "avg1 = week1['yards_gained'].mean()\n",
    "\n",
    "#Week 2 average yards per play\n",
    "week2 = Off_Plays.loc[['2018-09-13', '2018-09-16', '2018-09-17']]\n",
    "avg2 = week2['yards_gained'].mean()\n",
    "\n",
    "#Week 3 average yards per play\n",
    "week3 = Off_Plays.loc[['2018-09-20', '2018-09-23', '2018-09-24']]\n",
    "avg3 = week3['yards_gained'].mean()\n",
    "\n",
    "#Week 4 average yards per play\n",
    "week4 = Off_Plays.loc[['2018-09-27', '2018-09-30', '2018-10-01']]\n",
    "avg4 = week4['yards_gained'].mean()\n",
    "\n",
    "#Week 5 average yards per play\n",
    "week5 = Off_Plays.loc[['2018-10-04', '2018-10-07', '2018-10-08']]\n",
    "avg5 = week5['yards_gained'].mean()\n",
    "\n",
    "#Week 6 average yards per play\n",
    "week6 = Off_Plays.loc[['2018-10-11', '2018-10-14', '2018-10-15']]\n",
    "avg6 = week6['yards_gained'].mean()\n",
    "\n",
    "#Week 7 average yards per play\n",
    "week7 = Off_Plays.loc[['2018-10-18', '2018-10-21', '2018-10-22']]\n",
    "avg7 = week7['yards_gained'].mean()\n",
    "\n",
    "#Week 8 average yards per play\n",
    "week8 = Off_Plays.loc[['2018-10-25', '2018-10-28', '2018-10-29']]\n",
    "avg8 = week8['yards_gained'].mean()\n",
    "\n",
    "#Week 9 average yards per play\n",
    "week9 = Off_Plays.loc[['2018-11-01', '2018-11-04', '2018-11-05']]\n",
    "avg9 = week9['yards_gained'].mean()\n",
    "\n",
    "#Week 10 average yards per play\n",
    "week10 = Off_Plays.loc[['2018-11-08', '2018-11-11', '2018-11-12']]\n",
    "avg10 = week10['yards_gained'].mean()\n",
    "\n",
    "#Week 11 average yards per play\n",
    "week11 = Off_Plays.loc[['2018-11-15', '2018-11-18', '2018-11-19']]\n",
    "avg11 = week11['yards_gained'].mean()\n",
    "\n",
    "#Week 12 average yards per play\n",
    "week12 = Off_Plays.loc[['2018-11-22', '2018-11-25', '2018-11-26']]\n",
    "avg12 = week12['yards_gained'].mean()\n",
    "\n",
    "#Week 13 average yards per play\n",
    "week13 = Off_Plays.loc[['2018-11-29', '2018-12-02', '2018-12-03']]\n",
    "avg13 = week13['yards_gained'].mean()\n",
    "\n",
    "#Week 14 average yards per play\n",
    "week14 = Off_Plays.loc[['2018-12-06', '2018-12-09', '2018-12-10']]\n",
    "avg14 = week14['yards_gained'].mean()\n",
    "\n",
    "#Week 15 average yards per play\n",
    "week15 = Off_Plays.loc[['2018-12-13', '2018-12-15', '2018-12-16', '2018-12-17']]\n",
    "avg15 = week15['yards_gained'].mean()"
   ]
  },
  {
   "cell_type": "code",
   "execution_count": null,
   "metadata": {},
   "outputs": [],
   "source": [
    "#Now we can put those averages into a line graph to chart the offenses progress over the weeks\n",
    "plt.plot(['Wk1', 'Wk2', 'Wk3', 'Wk4', 'Wk5','Wk6', 'Wk7', 'Wk8', 'Wk9', 'Wk10','Wk11', 'Wk12', 'Wk13', 'Wk14', 'Wk15'],[avg1, avg2, avg3, avg4, avg5, avg6, avg7, avg8, avg9, avg10, avg11, avg12, avg13, avg14, avg15])\n",
    "plt.xlabel(\"Week of the Season\")\n",
    "plt.ylabel(\"Average Offensive Yards Per Play\")\n",
    "plt.title('2018 Weekly Average Yards Per Play')\n",
    "plt.ylim(ymin=0)\n",
    "plt.ylim(ymax=8)\n",
    "plt.xticks(rotation = 'vertical')"
   ]
  },
  {
   "cell_type": "markdown",
   "metadata": {},
   "source": [
    "#### I would have expected the yards per play to increase by week as offenses begin to reach their potential week after week. However this answers that hypothesis by showing that no, offenses on average do not get better as the season progresses."
   ]
  },
  {
   "cell_type": "markdown",
   "metadata": {},
   "source": [
    "## Since most NFL quarterbacks are right handed, their vision may favor the right sight of the field, lets evaluate our hypotheses about throwing the ball to the right or left side of the field"
   ]
  },
  {
   "cell_type": "markdown",
   "metadata": {},
   "source": [
    "## First, are passes thrown to the right side of the field more than the left?"
   ]
  },
  {
   "cell_type": "code",
   "execution_count": null,
   "metadata": {},
   "outputs": [],
   "source": [
    "#Take Plays dataframe to create a dataframe with only passes"
   ]
  },
  {
   "cell_type": "code",
   "execution_count": null,
   "metadata": {},
   "outputs": [],
   "source": [
    "Pass_Plays = Plays.loc[[\"pass\"]]"
   ]
  },
  {
   "cell_type": "code",
   "execution_count": null,
   "metadata": {},
   "outputs": [],
   "source": [
    "#Count the instances a pass was thrown to the right and left\n",
    "TotalPasses = Pass_Plays.shape[0]"
   ]
  },
  {
   "cell_type": "code",
   "execution_count": null,
   "metadata": {},
   "outputs": [],
   "source": [
    "Pass_Plays['pass_location'].value_counts()"
   ]
  },
  {
   "cell_type": "code",
   "execution_count": null,
   "metadata": {},
   "outputs": [],
   "source": [
    "print('A pass was thrown to the right:', (6473/TotalPasses)*100,'percent of the throws.')\n",
    "print('A pass was thrown to the left:', (5947/TotalPasses)*100,'percent of the throws.')"
   ]
  },
  {
   "cell_type": "markdown",
   "metadata": {},
   "source": [
    "### Yes passes are thrown more to the right side of the field, but only slightly. Quarterbacks did not seem to mind throwing to the left side of the field. Let's compare the distance of the passes thrown to the middle and right compared to the left since the middle and right of the field are more in the quarterback's vision"
   ]
  },
  {
   "cell_type": "code",
   "execution_count": null,
   "metadata": {},
   "outputs": [],
   "source": [
    "#Create seperate right/middle and left dataframes depending on the location of the pass in Pass_Plays df\n",
    "R_M_Passes = Pass_Plays.loc[Pass_Plays['pass_location'] != 'left']\n",
    "L_Passes = Pass_Plays.loc[Pass_Plays['pass_location'] == 'left']"
   ]
  },
  {
   "cell_type": "code",
   "execution_count": null,
   "metadata": {},
   "outputs": [],
   "source": [
    "# Take the average distance of throws in the air of the two different dataframes\n",
    "RM_Pass_Length = R_M_Passes['air_yards'].mean()\n",
    "L_Pass_Length = L_Passes['air_yards'].mean()"
   ]
  },
  {
   "cell_type": "code",
   "execution_count": null,
   "metadata": {},
   "outputs": [],
   "source": [
    "#Now plot the averages to see if there is a notable difference\n",
    "PassLoc = ['Right or Middle', 'Left']\n",
    "passlength = [RM_Pass_Length, L_Pass_Length]\n",
    "plt.bar(PassLoc,passlength)\n",
    "plt.xlabel('Pass Location')\n",
    "plt.ylabel('Average Distance Thrown (Yards)')\n",
    "plt.title('Average Distance of Right/Middle vs. Left Passes')\n",
    "plt.show()"
   ]
  },
  {
   "cell_type": "markdown",
   "metadata": {},
   "source": [
    "## Another result I did not expect. There is barely any difference between the percentage of passes thrown to the right versus left and there is barely any difference between the average length of passes thrown to the Middle/Right versus the left"
   ]
  }
 ],
 "metadata": {
  "kernelspec": {
   "display_name": "Python 3",
   "language": "python",
   "name": "python3"
  },
  "language_info": {
   "codemirror_mode": {
    "name": "ipython",
    "version": 3
   },
   "file_extension": ".py",
   "mimetype": "text/x-python",
   "name": "python",
   "nbconvert_exporter": "python",
   "pygments_lexer": "ipython3",
   "version": "3.7.6"
  }
 },
 "nbformat": 4,
 "nbformat_minor": 4
}

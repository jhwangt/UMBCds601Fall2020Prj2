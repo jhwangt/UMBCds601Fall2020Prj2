{
 "cells": [
  {
   "cell_type": "markdown",
   "metadata": {},
   "source": [
    "# Proposal project 1: Housing Licensing and Registration in Montgomery County\n"
   ]
  },
  {
   "cell_type": "markdown",
   "metadata": {},
   "source": [
    "​​Montgomery County Code Chapter 29 requires all residential and multifamily property owners obtain a rental housing license before their property may be rented or advertised for rent. Rental Housing Licenses are effective for one year from July 1st through June 30th.\n",
    "\n",
    "All rental dwellings located in Montgomery County must be licensed by the Department of Housing and Community Affairs Licensing and Registration Unit. Property owners who fail to license a rental dwelling are subject to the issuance of a Class \"A\" Citation which carries a $500 fine."
   ]
  },
  {
   "cell_type": "markdown",
   "metadata": {},
   "source": [
    "**1. What is your issue of interest (provide sufficient background information)?**\n",
    "\n",
    "I have a Master of science in civil engineering and I would like to become a data scientist in real estate industry. I am interested in every aspect of real estate.\n",
    "\n"
   ]
  },
  {
   "cell_type": "markdown",
   "metadata": {},
   "source": [
    "**2. Why is this issue important to you and/or to others?**\n",
    "\n",
    "As I am a french international student, I would need to learn the specificities of the real estate in the US. As I live in Rockville, it would be interesting for me to analyze dataset about Montgomery County. Also, this project will help me to identify the different \"structure type\" that may not exist in France."
   ]
  },
  {
   "cell_type": "markdown",
   "metadata": {},
   "source": [
    "**3. What questions do you have in mind and would like to answer?**\n",
    "\n",
    "Here are the questions I have in mind I would like to answer:\n",
    "  - What are the three cities in Montgomery County with with the greatest number of licenses? My hypothesis are Bethesda, Silver Spring and Rockville.\n",
    "  - What is the Structure Type with the highest licenses?\n",
    "  - What is the Ownership type with the highest licenses?\n"
   ]
  },
  {
   "cell_type": "markdown",
   "metadata": {},
   "source": [
    "**4. Where do you get the data to help answer your questions?**\n",
    "\n",
    "I found the data on the website \"Data Montgomery\". \n",
    "\n",
    "Here is the link (https://data.montgomerycountymd.gov/Consumer-Housing/Housing-Licensing-and-Registration/et5s-xste)\n",
    "\n",
    "The dataset has 13 columns and 27.3K rows"
   ]
  },
  {
   "cell_type": "markdown",
   "metadata": {},
   "source": [
    "**5. What will be your unit of analysis (for example, patient, organization, or country)? Roughly how many units (observations) do you expect to analyze? What variables/measures do you plan to use in your analysis?**\n",
    "\n",
    "Given the questions I need to answer, my unit of analysis will be city, zip code, structure type, ownership type"
   ]
  },
  {
   "cell_type": "markdown",
   "metadata": {},
   "source": [
    "**7. What kinds of techniques do you plan to use (for example, summary statistics, scatter plot, bar chart, chi-squared test)?**\n",
    "\n",
    "I will use the summary statistics in my analysis (mean, the maximum,the minimum)\n",
    "\n",
    "I will also use bar and pie charts"
   ]
  },
  {
   "cell_type": "markdown",
   "metadata": {},
   "source": [
    "## Step 1- Set up environment"
   ]
  },
  {
   "cell_type": "code",
   "execution_count": 1,
   "metadata": {},
   "outputs": [],
   "source": [
    "import pandas as pd"
   ]
  },
  {
   "cell_type": "code",
   "execution_count": 2,
   "metadata": {},
   "outputs": [],
   "source": [
    "import matplotlib.pyplot as plt"
   ]
  },
  {
   "cell_type": "code",
   "execution_count": 3,
   "metadata": {},
   "outputs": [],
   "source": [
    "import numpy as np"
   ]
  },
  {
   "cell_type": "markdown",
   "metadata": {},
   "source": [
    "## Step 2 - Read Data"
   ]
  },
  {
   "cell_type": "markdown",
   "metadata": {},
   "source": [
    "### 2.1 Read Data and select specific columns"
   ]
  },
  {
   "cell_type": "code",
   "execution_count": 4,
   "metadata": {},
   "outputs": [
    {
     "data": {
      "text/html": [
       "<div>\n",
       "<style scoped>\n",
       "    .dataframe tbody tr th:only-of-type {\n",
       "        vertical-align: middle;\n",
       "    }\n",
       "\n",
       "    .dataframe tbody tr th {\n",
       "        vertical-align: top;\n",
       "    }\n",
       "\n",
       "    .dataframe thead th {\n",
       "        text-align: right;\n",
       "    }\n",
       "</style>\n",
       "<table border=\"1\" class=\"dataframe\">\n",
       "  <thead>\n",
       "    <tr style=\"text-align: right;\">\n",
       "      <th></th>\n",
       "      <th>Ownership Type</th>\n",
       "      <th>Property City</th>\n",
       "      <th>Property Zip Code</th>\n",
       "      <th>Structure Type</th>\n",
       "      <th>Year Built</th>\n",
       "      <th>License Type</th>\n",
       "      <th>License Status</th>\n",
       "    </tr>\n",
       "  </thead>\n",
       "  <tbody>\n",
       "    <tr>\n",
       "      <th>0</th>\n",
       "      <td>Corporation</td>\n",
       "      <td>BETHESDA</td>\n",
       "      <td>20816</td>\n",
       "      <td>Condominium in Highrise Building</td>\n",
       "      <td>1969.0</td>\n",
       "      <td>Condominium(Garden, High Rise)/Co-op Apartments</td>\n",
       "      <td>Unlicensed</td>\n",
       "    </tr>\n",
       "    <tr>\n",
       "      <th>1</th>\n",
       "      <td>Sole ownership/Proprietor</td>\n",
       "      <td>GERMANTOWN</td>\n",
       "      <td>20874</td>\n",
       "      <td>Condominium in Garden Style Property</td>\n",
       "      <td>1992.0</td>\n",
       "      <td>Condominium(Garden, High Rise)/Co-op Apartments</td>\n",
       "      <td>Licensed</td>\n",
       "    </tr>\n",
       "    <tr>\n",
       "      <th>2</th>\n",
       "      <td>Sole ownership/Proprietor</td>\n",
       "      <td>SILVER SPRING</td>\n",
       "      <td>20904</td>\n",
       "      <td>Condominium in Garden Style Property</td>\n",
       "      <td>1982.0</td>\n",
       "      <td>Condominium(Garden, High Rise)/Co-op Apartments</td>\n",
       "      <td>Licensed</td>\n",
       "    </tr>\n",
       "    <tr>\n",
       "      <th>3</th>\n",
       "      <td>Trust</td>\n",
       "      <td>SILVER SPRING</td>\n",
       "      <td>209062090-</td>\n",
       "      <td>Single Family</td>\n",
       "      <td>1949.0</td>\n",
       "      <td>Single Family, Townhouse, Back to Back, Duplex...</td>\n",
       "      <td>Licensed</td>\n",
       "    </tr>\n",
       "    <tr>\n",
       "      <th>4</th>\n",
       "      <td>Sole ownership/Proprietor</td>\n",
       "      <td>SILVER SPRING</td>\n",
       "      <td>20902</td>\n",
       "      <td>Garden Apartment - Multifamily with 1-4 stories</td>\n",
       "      <td>1974.0</td>\n",
       "      <td>Condominium(Garden, High Rise)/Co-op Apartments</td>\n",
       "      <td>Withdrawn</td>\n",
       "    </tr>\n",
       "  </tbody>\n",
       "</table>\n",
       "</div>"
      ],
      "text/plain": [
       "              Ownership Type  Property City Property Zip Code  \\\n",
       "0                Corporation       BETHESDA             20816   \n",
       "1  Sole ownership/Proprietor     GERMANTOWN             20874   \n",
       "2  Sole ownership/Proprietor  SILVER SPRING             20904   \n",
       "3                      Trust  SILVER SPRING        209062090-   \n",
       "4  Sole ownership/Proprietor  SILVER SPRING             20902   \n",
       "\n",
       "                                    Structure Type  Year Built  \\\n",
       "0                 Condominium in Highrise Building      1969.0   \n",
       "1             Condominium in Garden Style Property      1992.0   \n",
       "2             Condominium in Garden Style Property      1982.0   \n",
       "3                                    Single Family      1949.0   \n",
       "4  Garden Apartment - Multifamily with 1-4 stories      1974.0   \n",
       "\n",
       "                                        License Type License Status  \n",
       "0    Condominium(Garden, High Rise)/Co-op Apartments     Unlicensed  \n",
       "1    Condominium(Garden, High Rise)/Co-op Apartments       Licensed  \n",
       "2    Condominium(Garden, High Rise)/Co-op Apartments       Licensed  \n",
       "3  Single Family, Townhouse, Back to Back, Duplex...       Licensed  \n",
       "4    Condominium(Garden, High Rise)/Co-op Apartments      Withdrawn  "
      ]
     },
     "execution_count": 4,
     "metadata": {},
     "output_type": "execute_result"
    }
   ],
   "source": [
    "# The dataset has 13 columns but I will use only 7 columns\n",
    "\n",
    "df=pd.read_csv('Housing_Licensing_and_Registration.csv', usecols=[\"Ownership Type\", \"Property City\", \"Property Zip Code\", \"Structure Type\", \"Year Built\", \"License Type\", \"License Status\"])\n",
    "df.head()"
   ]
  },
  {
   "cell_type": "markdown",
   "metadata": {},
   "source": [
    "### 2.2 Display Dataframe infos"
   ]
  },
  {
   "cell_type": "code",
   "execution_count": 5,
   "metadata": {},
   "outputs": [
    {
     "data": {
      "text/plain": [
       "Ownership Type        object\n",
       "Property City         object\n",
       "Property Zip Code     object\n",
       "Structure Type        object\n",
       "Year Built           float64\n",
       "License Type          object\n",
       "License Status        object\n",
       "dtype: object"
      ]
     },
     "execution_count": 5,
     "metadata": {},
     "output_type": "execute_result"
    }
   ],
   "source": [
    "df.dtypes"
   ]
  },
  {
   "cell_type": "markdown",
   "metadata": {},
   "source": [
    "The values in the \"Year Built\" column are float numbers. The others are object."
   ]
  },
  {
   "cell_type": "code",
   "execution_count": 6,
   "metadata": {},
   "outputs": [
    {
     "data": {
      "text/plain": [
       "(27274, 7)"
      ]
     },
     "execution_count": 6,
     "metadata": {},
     "output_type": "execute_result"
    }
   ],
   "source": [
    "df.shape"
   ]
  },
  {
   "cell_type": "markdown",
   "metadata": {},
   "source": [
    "There are 27274 rows and 7 columns."
   ]
  },
  {
   "cell_type": "markdown",
   "metadata": {},
   "source": [
    "## Step 3 - Data Cleaning"
   ]
  },
  {
   "cell_type": "markdown",
   "metadata": {},
   "source": [
    "### 3.1 Change the column names"
   ]
  },
  {
   "cell_type": "code",
   "execution_count": 7,
   "metadata": {},
   "outputs": [
    {
     "data": {
      "text/html": [
       "<div>\n",
       "<style scoped>\n",
       "    .dataframe tbody tr th:only-of-type {\n",
       "        vertical-align: middle;\n",
       "    }\n",
       "\n",
       "    .dataframe tbody tr th {\n",
       "        vertical-align: top;\n",
       "    }\n",
       "\n",
       "    .dataframe thead th {\n",
       "        text-align: right;\n",
       "    }\n",
       "</style>\n",
       "<table border=\"1\" class=\"dataframe\">\n",
       "  <thead>\n",
       "    <tr style=\"text-align: right;\">\n",
       "      <th></th>\n",
       "      <th>Ownership_Type</th>\n",
       "      <th>Property_City</th>\n",
       "      <th>Property_Zip_Code</th>\n",
       "      <th>Structure_Type</th>\n",
       "      <th>Year_Built</th>\n",
       "      <th>License_Type</th>\n",
       "      <th>License_Status</th>\n",
       "    </tr>\n",
       "  </thead>\n",
       "  <tbody>\n",
       "    <tr>\n",
       "      <th>0</th>\n",
       "      <td>Corporation</td>\n",
       "      <td>BETHESDA</td>\n",
       "      <td>20816</td>\n",
       "      <td>Condominium in Highrise Building</td>\n",
       "      <td>1969.0</td>\n",
       "      <td>Condominium(Garden, High Rise)/Co-op Apartments</td>\n",
       "      <td>Unlicensed</td>\n",
       "    </tr>\n",
       "    <tr>\n",
       "      <th>1</th>\n",
       "      <td>Sole ownership/Proprietor</td>\n",
       "      <td>GERMANTOWN</td>\n",
       "      <td>20874</td>\n",
       "      <td>Condominium in Garden Style Property</td>\n",
       "      <td>1992.0</td>\n",
       "      <td>Condominium(Garden, High Rise)/Co-op Apartments</td>\n",
       "      <td>Licensed</td>\n",
       "    </tr>\n",
       "    <tr>\n",
       "      <th>2</th>\n",
       "      <td>Sole ownership/Proprietor</td>\n",
       "      <td>SILVER SPRING</td>\n",
       "      <td>20904</td>\n",
       "      <td>Condominium in Garden Style Property</td>\n",
       "      <td>1982.0</td>\n",
       "      <td>Condominium(Garden, High Rise)/Co-op Apartments</td>\n",
       "      <td>Licensed</td>\n",
       "    </tr>\n",
       "    <tr>\n",
       "      <th>3</th>\n",
       "      <td>Trust</td>\n",
       "      <td>SILVER SPRING</td>\n",
       "      <td>209062090-</td>\n",
       "      <td>Single Family</td>\n",
       "      <td>1949.0</td>\n",
       "      <td>Single Family, Townhouse, Back to Back, Duplex...</td>\n",
       "      <td>Licensed</td>\n",
       "    </tr>\n",
       "    <tr>\n",
       "      <th>4</th>\n",
       "      <td>Sole ownership/Proprietor</td>\n",
       "      <td>SILVER SPRING</td>\n",
       "      <td>20902</td>\n",
       "      <td>Garden Apartment - Multifamily with 1-4 stories</td>\n",
       "      <td>1974.0</td>\n",
       "      <td>Condominium(Garden, High Rise)/Co-op Apartments</td>\n",
       "      <td>Withdrawn</td>\n",
       "    </tr>\n",
       "    <tr>\n",
       "      <th>...</th>\n",
       "      <td>...</td>\n",
       "      <td>...</td>\n",
       "      <td>...</td>\n",
       "      <td>...</td>\n",
       "      <td>...</td>\n",
       "      <td>...</td>\n",
       "      <td>...</td>\n",
       "    </tr>\n",
       "    <tr>\n",
       "      <th>27269</th>\n",
       "      <td>Sole ownership/Proprietor</td>\n",
       "      <td>SILVER SPRING</td>\n",
       "      <td>20903</td>\n",
       "      <td>Single Family</td>\n",
       "      <td>1957.0</td>\n",
       "      <td>Single Family, Townhouse, Back to Back, Duplex...</td>\n",
       "      <td>Unlicensed</td>\n",
       "    </tr>\n",
       "    <tr>\n",
       "      <th>27270</th>\n",
       "      <td>Sole ownership/Proprietor</td>\n",
       "      <td>MONTGOMERY VILLAGE</td>\n",
       "      <td>20886</td>\n",
       "      <td>Townhouse Single Family</td>\n",
       "      <td>1976.0</td>\n",
       "      <td>Single Family, Townhouse, Back to Back, Duplex...</td>\n",
       "      <td>Unlicensed</td>\n",
       "    </tr>\n",
       "    <tr>\n",
       "      <th>27271</th>\n",
       "      <td>Sole ownership/Proprietor</td>\n",
       "      <td>SILVER SPRING</td>\n",
       "      <td>20904</td>\n",
       "      <td>Unknown</td>\n",
       "      <td>2007.0</td>\n",
       "      <td>Single Family, Townhouse, Back to Back, Duplex...</td>\n",
       "      <td>Unlicensed</td>\n",
       "    </tr>\n",
       "    <tr>\n",
       "      <th>27272</th>\n",
       "      <td>Sole ownership/Proprietor</td>\n",
       "      <td>GERMANTOWN</td>\n",
       "      <td>20876</td>\n",
       "      <td>Condominium in Garden Style Property</td>\n",
       "      <td>1983.0</td>\n",
       "      <td>Condominium(Garden, High Rise)/Co-op Apartments</td>\n",
       "      <td>Unlicensed</td>\n",
       "    </tr>\n",
       "    <tr>\n",
       "      <th>27273</th>\n",
       "      <td>Sole ownership/Proprietor</td>\n",
       "      <td>POTOMAC</td>\n",
       "      <td>20854</td>\n",
       "      <td>Single Family</td>\n",
       "      <td>1979.0</td>\n",
       "      <td>Single Family, Townhouse, Back to Back, Duplex...</td>\n",
       "      <td>Unlicensed</td>\n",
       "    </tr>\n",
       "  </tbody>\n",
       "</table>\n",
       "<p>27274 rows × 7 columns</p>\n",
       "</div>"
      ],
      "text/plain": [
       "                  Ownership_Type       Property_City Property_Zip_Code  \\\n",
       "0                    Corporation            BETHESDA             20816   \n",
       "1      Sole ownership/Proprietor          GERMANTOWN             20874   \n",
       "2      Sole ownership/Proprietor       SILVER SPRING             20904   \n",
       "3                          Trust       SILVER SPRING        209062090-   \n",
       "4      Sole ownership/Proprietor       SILVER SPRING             20902   \n",
       "...                          ...                 ...               ...   \n",
       "27269  Sole ownership/Proprietor       SILVER SPRING             20903   \n",
       "27270  Sole ownership/Proprietor  MONTGOMERY VILLAGE             20886   \n",
       "27271  Sole ownership/Proprietor       SILVER SPRING             20904   \n",
       "27272  Sole ownership/Proprietor          GERMANTOWN             20876   \n",
       "27273  Sole ownership/Proprietor             POTOMAC             20854   \n",
       "\n",
       "                                        Structure_Type  Year_Built  \\\n",
       "0                     Condominium in Highrise Building      1969.0   \n",
       "1                 Condominium in Garden Style Property      1992.0   \n",
       "2                 Condominium in Garden Style Property      1982.0   \n",
       "3                                        Single Family      1949.0   \n",
       "4      Garden Apartment - Multifamily with 1-4 stories      1974.0   \n",
       "...                                                ...         ...   \n",
       "27269                                    Single Family      1957.0   \n",
       "27270                          Townhouse Single Family      1976.0   \n",
       "27271                                          Unknown      2007.0   \n",
       "27272             Condominium in Garden Style Property      1983.0   \n",
       "27273                                    Single Family      1979.0   \n",
       "\n",
       "                                            License_Type License_Status  \n",
       "0        Condominium(Garden, High Rise)/Co-op Apartments     Unlicensed  \n",
       "1        Condominium(Garden, High Rise)/Co-op Apartments       Licensed  \n",
       "2        Condominium(Garden, High Rise)/Co-op Apartments       Licensed  \n",
       "3      Single Family, Townhouse, Back to Back, Duplex...       Licensed  \n",
       "4        Condominium(Garden, High Rise)/Co-op Apartments      Withdrawn  \n",
       "...                                                  ...            ...  \n",
       "27269  Single Family, Townhouse, Back to Back, Duplex...     Unlicensed  \n",
       "27270  Single Family, Townhouse, Back to Back, Duplex...     Unlicensed  \n",
       "27271  Single Family, Townhouse, Back to Back, Duplex...     Unlicensed  \n",
       "27272    Condominium(Garden, High Rise)/Co-op Apartments     Unlicensed  \n",
       "27273  Single Family, Townhouse, Back to Back, Duplex...     Unlicensed  \n",
       "\n",
       "[27274 rows x 7 columns]"
      ]
     },
     "execution_count": 7,
     "metadata": {},
     "output_type": "execute_result"
    }
   ],
   "source": [
    "# We add an underscore to each space in the column titles so that I can manipulate them later\n",
    "\n",
    "df.columns=[\"Ownership_Type\", \"Property_City\", \"Property_Zip_Code\", \"Structure_Type\", \"Year_Built\", \"License_Type\", \"License_Status\"]\n",
    "df"
   ]
  },
  {
   "cell_type": "markdown",
   "metadata": {},
   "source": [
    "### 3.2 Clean the column \"Property_City\""
   ]
  },
  {
   "cell_type": "code",
   "execution_count": 8,
   "metadata": {},
   "outputs": [
    {
     "data": {
      "text/plain": [
       "array(['BETHESDA', 'GERMANTOWN', 'SILVER SPRING', 'ROCKVILLE',\n",
       "       'MONTGOMERY VILLAGE', 'BURTONSVILLE', 'CHEVY CHASE', 'KENSINGTON',\n",
       "       'Takoma Park', 'GAITHERSBURG', 'POOLESVILLE', 'BROOKEVILLE',\n",
       "       'NORTH BETHESDA', 'POTOMAC', 'BELTSVILLE', 'TAKOMA PARK', 'OLNEY',\n",
       "       'BOYDS', 'CLARKSBURG', 'CABIN JOHN', 'NORTH POTOMAC', 'DAMASCUS',\n",
       "       'SANDY SPRING', 'DERWOOD', 'WHEATON', 'ASHTON', 'LAYTONSVILLE',\n",
       "       'Bethesda', 'NO POTOMAC', 'COLESVILLE', 'DICKERSON', 'DARNESTOWN',\n",
       "       'SPENCERVILLE', 'WASHINGTON GROVE', 'Chevy Chase', 'MT. AIRY',\n",
       "       'GARRETT PARK', 'Silver Spring', 'Potomac', 'NORTH CHEVY CHASE',\n",
       "       'HIGHLAND', 'MOUNT AIRY', 'BARNESVILLE', 'GLEN ECHO', 'SUMNER',\n",
       "       'BEALLSVILLE', 'WEST BETHESDA', 'Rockville', 'BRINKLOW'],\n",
       "      dtype=object)"
      ]
     },
     "execution_count": 8,
     "metadata": {},
     "output_type": "execute_result"
    }
   ],
   "source": [
    "# Display all the value in the column \"Property_City\"\n",
    "\n",
    "df.Property_City.unique()"
   ]
  },
  {
   "cell_type": "code",
   "execution_count": 9,
   "metadata": {},
   "outputs": [
    {
     "data": {
      "text/plain": [
       "array(['BETHESDA', 'GERMANTOWN', 'SILVER SPRING', 'ROCKVILLE',\n",
       "       'MONTGOMERY VILLAGE', 'BURTONSVILLE', 'CHEVY CHASE', 'KENSINGTON',\n",
       "       'Takoma Park', 'GAITHERSBURG', 'POOLESVILLE', 'BROOKEVILLE',\n",
       "       'POTOMAC', 'BELTSVILLE', 'TAKOMA PARK', 'OLNEY', 'BOYDS',\n",
       "       'CLARKSBURG', 'CABIN JOHN', 'DAMASCUS', 'SANDY SPRING', 'DERWOOD',\n",
       "       'WHEATON', 'ASHTON', 'LAYTONSVILLE', 'COLESVILLE', 'DICKERSON',\n",
       "       'DARNESTOWN', 'SPENCERVILLE', 'WASHINGTON GROVE', 'MT. AIRY',\n",
       "       'GARRETT PARK', 'HIGHLAND', 'MOUNT AIRY', 'BARNESVILLE',\n",
       "       'GLEN ECHO', 'SUMNER', 'BEALLSVILLE', 'BRINKLOW'], dtype=object)"
      ]
     },
     "execution_count": 9,
     "metadata": {},
     "output_type": "execute_result"
    }
   ],
   "source": [
    "# Replace the cities that have different names with a unique name\n",
    "\n",
    "\n",
    "df['Property_City']=df['Property_City'].replace('NORTH BETHESDA', 'BETHESDA')\n",
    "df['Property_City']=df['Property_City'].replace('WEST BETHESDA', 'BETHESDA')\n",
    "df['Property_City']=df['Property_City'].replace('Bethesda', 'BETHESDA')\n",
    "df['Property_City']=df['Property_City'].replace('Rockville', 'ROCKVILLE')\n",
    "df['Property_City']=df['Property_City'].replace('NORTH POTOMAC', 'POTOMAC')\n",
    "df['Property_City']=df['Property_City'].replace('Potomac', 'POTOMAC')\n",
    "df['Property_City']=df['Property_City'].replace('NO POTOMAC', 'POTOMAC')\n",
    "df['Property_City']=df['Property_City'].replace('Potomac', 'POTOMAC')\n",
    "df['Property_City']=df['Property_City'].replace('NORTH CHEVY CHASE', 'CHEVY CHASE')\n",
    "df['Property_City']=df['Property_City'].replace('Silver Spring', 'SILVER SPRING')\n",
    "df['Property_City']=df['Property_City'].replace('Chevy Chase', 'CHEVY CHASE')\n",
    "df.Property_City.unique()"
   ]
  },
  {
   "cell_type": "markdown",
   "metadata": {},
   "source": [
    "### 3.3 Display the values of the \"Ownership_Type\" column"
   ]
  },
  {
   "cell_type": "code",
   "execution_count": 10,
   "metadata": {},
   "outputs": [
    {
     "data": {
      "text/plain": [
       "array(['Corporation', 'Sole ownership/Proprietor', 'Trust',\n",
       "       'LLC - Limited Liability Company',\n",
       "       'Housing Opportunities Community', 'Partnership',\n",
       "       'Common Ownership Community', 'Non-Profit Organization'],\n",
       "      dtype=object)"
      ]
     },
     "execution_count": 10,
     "metadata": {},
     "output_type": "execute_result"
    }
   ],
   "source": [
    "df.Ownership_Type.unique()"
   ]
  },
  {
   "cell_type": "markdown",
   "metadata": {},
   "source": [
    "### 3.4 Display the values of the \"Structure_Type\" column"
   ]
  },
  {
   "cell_type": "code",
   "execution_count": 11,
   "metadata": {},
   "outputs": [
    {
     "data": {
      "text/plain": [
       "array(['Condominium in Highrise Building',\n",
       "       'Condominium in Garden Style Property', 'Single Family',\n",
       "       'Garden Apartment - Multifamily with 1-4 stories',\n",
       "       'Townhouse Single Family',\n",
       "       'Midrise - Multifamily with 5-8 stories',\n",
       "       'Back to Back - Single Family with Shared Back Wall',\n",
       "       'Highrise - Multifamily with 9+ stories', 'Unknown',\n",
       "       'Accessory Apartment / Dwelling Unit Class 3 - Existing Interior',\n",
       "       'Condominium in Piggyback Townhouse',\n",
       "       'Accessory Apartment / Dwelling Unit Class 1 - Existing Interior',\n",
       "       'Quadraplex - Single Family with 4 floors or units',\n",
       "       'Duplex - Single Family with 2 floors or units',\n",
       "       'Mixed Structure Types',\n",
       "       'Accessory Dwelling Unit Class 3 � New Attached',\n",
       "       'Accessory Apartment / Dwelling Unit Class 3 - New Interior',\n",
       "       'Accessory Dwelling Unit Class 3 � Existing Attached',\n",
       "       'Accessory Dwelling Unit Class 3 � New Detached',\n",
       "       'Accessory Dwelling Unit Class 3 � Existing Detached',\n",
       "       'Accessory Apartment / Dwelling Unit Class 3 - Conditional Use',\n",
       "       'Moderately Priced Dwelling Unit'], dtype=object)"
      ]
     },
     "execution_count": 11,
     "metadata": {},
     "output_type": "execute_result"
    }
   ],
   "source": [
    "df.Structure_Type.unique()"
   ]
  },
  {
   "cell_type": "markdown",
   "metadata": {},
   "source": [
    "### 3.5 Display the values of the \"License_Type\" column"
   ]
  },
  {
   "cell_type": "code",
   "execution_count": 12,
   "metadata": {},
   "outputs": [
    {
     "data": {
      "text/plain": [
       "array(['Condominium(Garden, High Rise)/Co-op Apartments',\n",
       "       'Single Family, Townhouse, Back to Back, Duplex, Qu',\n",
       "       'Multi-Family Survey - Out of Jurisdiction',\n",
       "       'Multi-family/Apartment Complex', 'Accessory Apartment Class 1',\n",
       "       'Accessory Dwelling Unit Class 3'], dtype=object)"
      ]
     },
     "execution_count": 12,
     "metadata": {},
     "output_type": "execute_result"
    }
   ],
   "source": [
    "df.License_Type.unique()"
   ]
  },
  {
   "cell_type": "markdown",
   "metadata": {},
   "source": [
    "### 3.6 Display the values of the \"License_Status\" column"
   ]
  },
  {
   "cell_type": "code",
   "execution_count": 13,
   "metadata": {},
   "outputs": [
    {
     "data": {
      "text/plain": [
       "array(['Unlicensed', 'Licensed', 'Withdrawn', 'Survey Only', 'Pending',\n",
       "       'Finding Conditional', 'Eliminated', 'Temporary License',\n",
       "       'Condemned', 'Finding Denied', 'Denied', 'Finding Approved',\n",
       "       'New Application', 'Revoked/Suspended', 'Pending Renewal',\n",
       "       'Unregistered'], dtype=object)"
      ]
     },
     "execution_count": 13,
     "metadata": {},
     "output_type": "execute_result"
    }
   ],
   "source": [
    "df.License_Status.unique()"
   ]
  },
  {
   "cell_type": "markdown",
   "metadata": {},
   "source": [
    "## Step 4 - Aggregate Data"
   ]
  },
  {
   "cell_type": "markdown",
   "metadata": {},
   "source": [
    "### 4.1 Aggregate licenses by Ownership type"
   ]
  },
  {
   "cell_type": "code",
   "execution_count": 14,
   "metadata": {},
   "outputs": [
    {
     "data": {
      "text/html": [
       "<div>\n",
       "<style scoped>\n",
       "    .dataframe tbody tr th:only-of-type {\n",
       "        vertical-align: middle;\n",
       "    }\n",
       "\n",
       "    .dataframe tbody tr th {\n",
       "        vertical-align: top;\n",
       "    }\n",
       "\n",
       "    .dataframe thead th {\n",
       "        text-align: right;\n",
       "    }\n",
       "</style>\n",
       "<table border=\"1\" class=\"dataframe\">\n",
       "  <thead>\n",
       "    <tr style=\"text-align: right;\">\n",
       "      <th></th>\n",
       "      <th>Ownership_Type</th>\n",
       "      <th>License_total</th>\n",
       "    </tr>\n",
       "  </thead>\n",
       "  <tbody>\n",
       "    <tr>\n",
       "      <th>0</th>\n",
       "      <td>Common Ownership Community</td>\n",
       "      <td>11</td>\n",
       "    </tr>\n",
       "    <tr>\n",
       "      <th>1</th>\n",
       "      <td>Corporation</td>\n",
       "      <td>564</td>\n",
       "    </tr>\n",
       "    <tr>\n",
       "      <th>2</th>\n",
       "      <td>Housing Opportunities Community</td>\n",
       "      <td>1620</td>\n",
       "    </tr>\n",
       "    <tr>\n",
       "      <th>3</th>\n",
       "      <td>LLC - Limited Liability Company</td>\n",
       "      <td>1162</td>\n",
       "    </tr>\n",
       "    <tr>\n",
       "      <th>4</th>\n",
       "      <td>Non-Profit Organization</td>\n",
       "      <td>2</td>\n",
       "    </tr>\n",
       "    <tr>\n",
       "      <th>5</th>\n",
       "      <td>Partnership</td>\n",
       "      <td>345</td>\n",
       "    </tr>\n",
       "    <tr>\n",
       "      <th>6</th>\n",
       "      <td>Sole ownership/Proprietor</td>\n",
       "      <td>22897</td>\n",
       "    </tr>\n",
       "    <tr>\n",
       "      <th>7</th>\n",
       "      <td>Trust</td>\n",
       "      <td>673</td>\n",
       "    </tr>\n",
       "  </tbody>\n",
       "</table>\n",
       "</div>"
      ],
      "text/plain": [
       "                    Ownership_Type  License_total\n",
       "0       Common Ownership Community             11\n",
       "1                      Corporation            564\n",
       "2  Housing Opportunities Community           1620\n",
       "3  LLC - Limited Liability Company           1162\n",
       "4          Non-Profit Organization              2\n",
       "5                      Partnership            345\n",
       "6        Sole ownership/Proprietor          22897\n",
       "7                            Trust            673"
      ]
     },
     "execution_count": 14,
     "metadata": {},
     "output_type": "execute_result"
    }
   ],
   "source": [
    "df_ownership = df[[\"Ownership_Type\",\"License_Status\"]].groupby('Ownership_Type').agg(\n",
    "    License_total=pd.NamedAgg(\"License_Status\", \"count\")\n",
    ")\n",
    "\n",
    "df_ownership = df_ownership.reset_index()    #Reset index to create a months column\n",
    "df_ownership"
   ]
  },
  {
   "cell_type": "code",
   "execution_count": 35,
   "metadata": {},
   "outputs": [],
   "source": [
    "df_ownership=df_ownership.sort_values(by=\"License_total\", ascending=False)"
   ]
  },
  {
   "cell_type": "markdown",
   "metadata": {},
   "source": [
    "### 4.1 Aggregate licenses by Structure type"
   ]
  },
  {
   "cell_type": "code",
   "execution_count": 16,
   "metadata": {},
   "outputs": [
    {
     "data": {
      "text/html": [
       "<div>\n",
       "<style scoped>\n",
       "    .dataframe tbody tr th:only-of-type {\n",
       "        vertical-align: middle;\n",
       "    }\n",
       "\n",
       "    .dataframe tbody tr th {\n",
       "        vertical-align: top;\n",
       "    }\n",
       "\n",
       "    .dataframe thead th {\n",
       "        text-align: right;\n",
       "    }\n",
       "</style>\n",
       "<table border=\"1\" class=\"dataframe\">\n",
       "  <thead>\n",
       "    <tr style=\"text-align: right;\">\n",
       "      <th></th>\n",
       "      <th>Structure_Type</th>\n",
       "      <th>License_total</th>\n",
       "    </tr>\n",
       "  </thead>\n",
       "  <tbody>\n",
       "    <tr>\n",
       "      <th>0</th>\n",
       "      <td>Accessory Apartment / Dwelling Unit Class 1 - ...</td>\n",
       "      <td>11</td>\n",
       "    </tr>\n",
       "    <tr>\n",
       "      <th>1</th>\n",
       "      <td>Accessory Apartment / Dwelling Unit Class 3 - ...</td>\n",
       "      <td>3</td>\n",
       "    </tr>\n",
       "    <tr>\n",
       "      <th>2</th>\n",
       "      <td>Accessory Apartment / Dwelling Unit Class 3 - ...</td>\n",
       "      <td>172</td>\n",
       "    </tr>\n",
       "    <tr>\n",
       "      <th>3</th>\n",
       "      <td>Accessory Apartment / Dwelling Unit Class 3 - ...</td>\n",
       "      <td>49</td>\n",
       "    </tr>\n",
       "    <tr>\n",
       "      <th>4</th>\n",
       "      <td>Accessory Dwelling Unit Class 3 � Existing Att...</td>\n",
       "      <td>49</td>\n",
       "    </tr>\n",
       "    <tr>\n",
       "      <th>5</th>\n",
       "      <td>Accessory Dwelling Unit Class 3 � Existing Det...</td>\n",
       "      <td>13</td>\n",
       "    </tr>\n",
       "    <tr>\n",
       "      <th>6</th>\n",
       "      <td>Accessory Dwelling Unit Class 3 � New Attached</td>\n",
       "      <td>64</td>\n",
       "    </tr>\n",
       "    <tr>\n",
       "      <th>7</th>\n",
       "      <td>Accessory Dwelling Unit Class 3 � New Detached</td>\n",
       "      <td>9</td>\n",
       "    </tr>\n",
       "    <tr>\n",
       "      <th>8</th>\n",
       "      <td>Back to Back - Single Family with Shared Back ...</td>\n",
       "      <td>521</td>\n",
       "    </tr>\n",
       "    <tr>\n",
       "      <th>9</th>\n",
       "      <td>Condominium in Garden Style Property</td>\n",
       "      <td>809</td>\n",
       "    </tr>\n",
       "    <tr>\n",
       "      <th>10</th>\n",
       "      <td>Condominium in Highrise Building</td>\n",
       "      <td>400</td>\n",
       "    </tr>\n",
       "    <tr>\n",
       "      <th>11</th>\n",
       "      <td>Condominium in Piggyback Townhouse</td>\n",
       "      <td>466</td>\n",
       "    </tr>\n",
       "    <tr>\n",
       "      <th>12</th>\n",
       "      <td>Duplex - Single Family with 2 floors or units</td>\n",
       "      <td>174</td>\n",
       "    </tr>\n",
       "    <tr>\n",
       "      <th>13</th>\n",
       "      <td>Garden Apartment - Multifamily with 1-4 stories</td>\n",
       "      <td>5045</td>\n",
       "    </tr>\n",
       "    <tr>\n",
       "      <th>14</th>\n",
       "      <td>Highrise - Multifamily with 9+ stories</td>\n",
       "      <td>2967</td>\n",
       "    </tr>\n",
       "    <tr>\n",
       "      <th>15</th>\n",
       "      <td>Midrise - Multifamily with 5-8 stories</td>\n",
       "      <td>23</td>\n",
       "    </tr>\n",
       "    <tr>\n",
       "      <th>16</th>\n",
       "      <td>Mixed Structure Types</td>\n",
       "      <td>10</td>\n",
       "    </tr>\n",
       "    <tr>\n",
       "      <th>17</th>\n",
       "      <td>Moderately Priced Dwelling Unit</td>\n",
       "      <td>1</td>\n",
       "    </tr>\n",
       "    <tr>\n",
       "      <th>18</th>\n",
       "      <td>Quadraplex - Single Family with 4 floors or units</td>\n",
       "      <td>80</td>\n",
       "    </tr>\n",
       "    <tr>\n",
       "      <th>19</th>\n",
       "      <td>Single Family</td>\n",
       "      <td>8054</td>\n",
       "    </tr>\n",
       "    <tr>\n",
       "      <th>20</th>\n",
       "      <td>Townhouse Single Family</td>\n",
       "      <td>7390</td>\n",
       "    </tr>\n",
       "    <tr>\n",
       "      <th>21</th>\n",
       "      <td>Unknown</td>\n",
       "      <td>964</td>\n",
       "    </tr>\n",
       "  </tbody>\n",
       "</table>\n",
       "</div>"
      ],
      "text/plain": [
       "                                       Structure_Type  License_total\n",
       "0   Accessory Apartment / Dwelling Unit Class 1 - ...             11\n",
       "1   Accessory Apartment / Dwelling Unit Class 3 - ...              3\n",
       "2   Accessory Apartment / Dwelling Unit Class 3 - ...            172\n",
       "3   Accessory Apartment / Dwelling Unit Class 3 - ...             49\n",
       "4   Accessory Dwelling Unit Class 3 � Existing Att...             49\n",
       "5   Accessory Dwelling Unit Class 3 � Existing Det...             13\n",
       "6      Accessory Dwelling Unit Class 3 � New Attached             64\n",
       "7      Accessory Dwelling Unit Class 3 � New Detached              9\n",
       "8   Back to Back - Single Family with Shared Back ...            521\n",
       "9                Condominium in Garden Style Property            809\n",
       "10                   Condominium in Highrise Building            400\n",
       "11                 Condominium in Piggyback Townhouse            466\n",
       "12      Duplex - Single Family with 2 floors or units            174\n",
       "13    Garden Apartment - Multifamily with 1-4 stories           5045\n",
       "14             Highrise - Multifamily with 9+ stories           2967\n",
       "15             Midrise - Multifamily with 5-8 stories             23\n",
       "16                              Mixed Structure Types             10\n",
       "17                    Moderately Priced Dwelling Unit              1\n",
       "18  Quadraplex - Single Family with 4 floors or units             80\n",
       "19                                      Single Family           8054\n",
       "20                            Townhouse Single Family           7390\n",
       "21                                            Unknown            964"
      ]
     },
     "execution_count": 16,
     "metadata": {},
     "output_type": "execute_result"
    }
   ],
   "source": [
    "df_structure = df[[\"Structure_Type\",\"License_Status\"]].groupby('Structure_Type').agg(\n",
    "    License_total=pd.NamedAgg(\"License_Status\", \"count\")\n",
    ")\n",
    "\n",
    "df_structure = df_structure.reset_index()    #Reset index to create a months column\n",
    "df_structure"
   ]
  },
  {
   "cell_type": "code",
   "execution_count": 17,
   "metadata": {},
   "outputs": [
    {
     "data": {
      "text/html": [
       "<div>\n",
       "<style scoped>\n",
       "    .dataframe tbody tr th:only-of-type {\n",
       "        vertical-align: middle;\n",
       "    }\n",
       "\n",
       "    .dataframe tbody tr th {\n",
       "        vertical-align: top;\n",
       "    }\n",
       "\n",
       "    .dataframe thead th {\n",
       "        text-align: right;\n",
       "    }\n",
       "</style>\n",
       "<table border=\"1\" class=\"dataframe\">\n",
       "  <thead>\n",
       "    <tr style=\"text-align: right;\">\n",
       "      <th></th>\n",
       "      <th>Structure_Type</th>\n",
       "      <th>License_total</th>\n",
       "    </tr>\n",
       "  </thead>\n",
       "  <tbody>\n",
       "    <tr>\n",
       "      <th>19</th>\n",
       "      <td>Single Family</td>\n",
       "      <td>8054</td>\n",
       "    </tr>\n",
       "    <tr>\n",
       "      <th>20</th>\n",
       "      <td>Townhouse Single Family</td>\n",
       "      <td>7390</td>\n",
       "    </tr>\n",
       "    <tr>\n",
       "      <th>13</th>\n",
       "      <td>Garden Apartment - Multifamily with 1-4 stories</td>\n",
       "      <td>5045</td>\n",
       "    </tr>\n",
       "    <tr>\n",
       "      <th>14</th>\n",
       "      <td>Highrise - Multifamily with 9+ stories</td>\n",
       "      <td>2967</td>\n",
       "    </tr>\n",
       "  </tbody>\n",
       "</table>\n",
       "</div>"
      ],
      "text/plain": [
       "                                     Structure_Type  License_total\n",
       "19                                    Single Family           8054\n",
       "20                          Townhouse Single Family           7390\n",
       "13  Garden Apartment - Multifamily with 1-4 stories           5045\n",
       "14           Highrise - Multifamily with 9+ stories           2967"
      ]
     },
     "execution_count": 17,
     "metadata": {},
     "output_type": "execute_result"
    }
   ],
   "source": [
    "df_structure=df_structure.sort_values(by=\"License_total\", ascending=False)\n",
    "df_top4=df_structure.head(4)\n",
    "df_top4"
   ]
  },
  {
   "cell_type": "markdown",
   "metadata": {},
   "source": [
    "### 4.1 Aggregate licenses by city"
   ]
  },
  {
   "cell_type": "code",
   "execution_count": 18,
   "metadata": {},
   "outputs": [
    {
     "data": {
      "text/html": [
       "<div>\n",
       "<style scoped>\n",
       "    .dataframe tbody tr th:only-of-type {\n",
       "        vertical-align: middle;\n",
       "    }\n",
       "\n",
       "    .dataframe tbody tr th {\n",
       "        vertical-align: top;\n",
       "    }\n",
       "\n",
       "    .dataframe thead th {\n",
       "        text-align: right;\n",
       "    }\n",
       "</style>\n",
       "<table border=\"1\" class=\"dataframe\">\n",
       "  <thead>\n",
       "    <tr style=\"text-align: right;\">\n",
       "      <th></th>\n",
       "      <th>Property_City</th>\n",
       "      <th>License_total</th>\n",
       "    </tr>\n",
       "  </thead>\n",
       "  <tbody>\n",
       "    <tr>\n",
       "      <th>0</th>\n",
       "      <td>ASHTON</td>\n",
       "      <td>29</td>\n",
       "    </tr>\n",
       "    <tr>\n",
       "      <th>1</th>\n",
       "      <td>BARNESVILLE</td>\n",
       "      <td>2</td>\n",
       "    </tr>\n",
       "    <tr>\n",
       "      <th>2</th>\n",
       "      <td>BEALLSVILLE</td>\n",
       "      <td>3</td>\n",
       "    </tr>\n",
       "    <tr>\n",
       "      <th>3</th>\n",
       "      <td>BELTSVILLE</td>\n",
       "      <td>31</td>\n",
       "    </tr>\n",
       "    <tr>\n",
       "      <th>4</th>\n",
       "      <td>BETHESDA</td>\n",
       "      <td>3931</td>\n",
       "    </tr>\n",
       "  </tbody>\n",
       "</table>\n",
       "</div>"
      ],
      "text/plain": [
       "  Property_City  License_total\n",
       "0        ASHTON             29\n",
       "1   BARNESVILLE              2\n",
       "2   BEALLSVILLE              3\n",
       "3    BELTSVILLE             31\n",
       "4      BETHESDA           3931"
      ]
     },
     "execution_count": 18,
     "metadata": {},
     "output_type": "execute_result"
    }
   ],
   "source": [
    "df_city = df[[\"Property_City\",\"License_Status\"]].groupby('Property_City').agg(\n",
    "    License_total=pd.NamedAgg(\"License_Status\", \"count\")\n",
    ")\n",
    "\n",
    "df_city = df_city.reset_index()    #Reset index to create a months column\n",
    "df_city.head()"
   ]
  },
  {
   "cell_type": "code",
   "execution_count": 30,
   "metadata": {},
   "outputs": [
    {
     "data": {
      "text/html": [
       "<div>\n",
       "<style scoped>\n",
       "    .dataframe tbody tr th:only-of-type {\n",
       "        vertical-align: middle;\n",
       "    }\n",
       "\n",
       "    .dataframe tbody tr th {\n",
       "        vertical-align: top;\n",
       "    }\n",
       "\n",
       "    .dataframe thead th {\n",
       "        text-align: right;\n",
       "    }\n",
       "</style>\n",
       "<table border=\"1\" class=\"dataframe\">\n",
       "  <thead>\n",
       "    <tr style=\"text-align: right;\">\n",
       "      <th></th>\n",
       "      <th>Property_City</th>\n",
       "      <th>License_total</th>\n",
       "    </tr>\n",
       "  </thead>\n",
       "  <tbody>\n",
       "    <tr>\n",
       "      <th>32</th>\n",
       "      <td>SILVER SPRING</td>\n",
       "      <td>7014</td>\n",
       "    </tr>\n",
       "    <tr>\n",
       "      <th>19</th>\n",
       "      <td>GERMANTOWN</td>\n",
       "      <td>3938</td>\n",
       "    </tr>\n",
       "    <tr>\n",
       "      <th>4</th>\n",
       "      <td>BETHESDA</td>\n",
       "      <td>3931</td>\n",
       "    </tr>\n",
       "  </tbody>\n",
       "</table>\n",
       "</div>"
      ],
      "text/plain": [
       "    Property_City  License_total\n",
       "32  SILVER SPRING           7014\n",
       "19     GERMANTOWN           3938\n",
       "4        BETHESDA           3931"
      ]
     },
     "execution_count": 30,
     "metadata": {},
     "output_type": "execute_result"
    }
   ],
   "source": [
    "df_city=df_city.sort_values(by=\"License_total\", ascending=False)\n",
    "df_top=df_city.head(3)\n",
    "df_top"
   ]
  },
  {
   "cell_type": "markdown",
   "metadata": {},
   "source": [
    "## Step 5 - Visualize Data"
   ]
  },
  {
   "cell_type": "markdown",
   "metadata": {},
   "source": [
    "### 5.1 Bar plot: cities with the highest licenses "
   ]
  },
  {
   "cell_type": "code",
   "execution_count": 31,
   "metadata": {},
   "outputs": [
    {
     "data": {
      "image/png": "[encoded data removed]",
      "text/plain": [
       "<Figure size 864x576 with 1 Axes>"
      ]
     },
     "metadata": {
      "needs_background": "light"
     },
     "output_type": "display_data"
    }
   ],
   "source": [
    "ax = df_top.plot.bar(\n",
    "    x=\"Property_City\", \n",
    "    y=\"License_total\",\n",
    "    title= \"First five cities in Montgomery County with the greatest rental licenses\",\n",
    "    legend=True,\n",
    "    figsize=(12,8)\n",
    ")\n",
    "\n",
    "ax.set_xlabel(\"City\", fontsize=12)\n",
    "ax.set_ylabel(\"Total licenses\", fontsize=12)\n",
    "\n",
    "plt.show()\n",
    "\n"
   ]
  },
  {
   "cell_type": "markdown",
   "metadata": {},
   "source": [
    "The first five cities with the greatest rental licenses are : Silver Spring, Germantown and Bethesda."
   ]
  },
  {
   "cell_type": "markdown",
   "metadata": {},
   "source": [
    "### 5.2 Bar plot: Top 4 Structure type with the highest licenses"
   ]
  },
  {
   "cell_type": "code",
   "execution_count": 32,
   "metadata": {},
   "outputs": [
    {
     "data": {
      "image/png": "[encoded data removed]",
      "text/plain": [
       "<Figure size 864x576 with 1 Axes>"
      ]
     },
     "metadata": {
      "needs_background": "light"
     },
     "output_type": "display_data"
    }
   ],
   "source": [
    "ax = df_top4.plot.bar(\n",
    "    x=\"Structure_Type\", \n",
    "    y=\"License_total\",\n",
    "    title= \"Top 4 Structure type with the highest licenses\",\n",
    "    legend=True,\n",
    "    figsize=(12,8)\n",
    ")\n",
    "\n",
    "ax.set_xlabel(\"Structure type\", fontsize=12)\n",
    "ax.set_ylabel(\"Total licenses\", fontsize=12)\n",
    "\n",
    "plt.show()"
   ]
  },
  {
   "cell_type": "markdown",
   "metadata": {},
   "source": [
    "The structure type with the highest licenses is \"Single Family\" house."
   ]
  },
  {
   "cell_type": "markdown",
   "metadata": {},
   "source": [
    "### 5.3 Bar plot: Top 4 Ownership type with the highest licenses"
   ]
  },
  {
   "cell_type": "code",
   "execution_count": 36,
   "metadata": {},
   "outputs": [
    {
     "data": {
      "image/png": "[encoded data removed]",
      "text/plain": [
       "<Figure size 864x576 with 1 Axes>"
      ]
     },
     "metadata": {
      "needs_background": "light"
     },
     "output_type": "display_data"
    }
   ],
   "source": [
    "ax = df_ownership.plot.bar(\n",
    "    x=\"Ownership_Type\", \n",
    "    y=\"License_total\",\n",
    "    title= \"Top 4 Structure type with the highest licenses\",\n",
    "    legend=True,\n",
    "    figsize=(12,8)\n",
    ")\n",
    "\n",
    "ax.set_xlabel(\"Structure type\", fontsize=12)\n",
    "ax.set_ylabel(\"Total licenses\", fontsize=12)\n",
    "\n",
    "plt.show()"
   ]
  },
  {
   "cell_type": "markdown",
   "metadata": {},
   "source": [
    "The ownership type with the highest licenses is \"Sole ownership/Proprietor\""
   ]
  }
 ],
 "metadata": {
  "kernelspec": {
   "display_name": "Python 3",
   "language": "python",
   "name": "python3"
  },
  "language_info": {
   "codemirror_mode": {
    "name": "ipython",
    "version": 3
   },
   "file_extension": ".py",
   "mimetype": "text/x-python",
   "name": "python",
   "nbconvert_exporter": "python",
   "pygments_lexer": "ipython3",
   "version": "3.8.3"
  }
 },
 "nbformat": 4,
 "nbformat_minor": 4
}

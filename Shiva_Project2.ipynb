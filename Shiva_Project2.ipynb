{
  "nbformat": 4,
  "nbformat_minor": 0,
  "metadata": {
    "colab": {
      "name": "Shiva_Project2.ipynb",
      "provenance": [],
      "include_colab_link": true
    },
    "kernelspec": {
      "name": "python3",
      "display_name": "Python 3"
    }
  },
  "cells": [
    {
      "cell_type": "markdown",
      "metadata": {
        "id": "view-in-github",
        "colab_type": "text"
      },
      "source": [
        "<a href=\"https://colab.research.google.com/github/jhwangt/UMBCds601Fall2020Prj2/blob/main/Shiva_Project2.ipynb\" target=\"_parent\"><img src=\"https://colab.research.google.com/assets/colab-badge.svg\" alt=\"Open In Colab\"/></a>"
      ]
    },
    {
      "cell_type": "code",
      "metadata": {
        "id": "IrDvig5g-KQ5"
      },
      "source": [
        ""
      ],
      "execution_count": null,
      "outputs": []
    },
    {
      "cell_type": "code",
      "metadata": {
        "id": "WonApIzq-Oi2"
      },
      "source": [
        "import pandas as pd\n",
        "import requests\n",
        "from io import StringIO"
      ],
      "execution_count": null,
      "outputs": []
    },
    {
      "cell_type": "code",
      "metadata": {
        "id": "Cn5B2FYx-Sbo",
        "outputId": "a0ded34a-9dd1-44c0-f93f-9a475012ac91",
        "colab": {
          "base_uri": "https://localhost:8080/"
        }
      },
      "source": [
        "\n",
        "1\n",
        "#Test the code for one file\n",
        "2\n",
        "#Read CSV from google drive : \n",
        "3\n",
        "# https://stackoverflow.com/questions/56611698/pandas-how-to-read-csv-file-from-google-drive-public\n",
        "4\n",
        "orig_url='https://drive.google.com/file/d/1VryNHYq8Irf3N8efgA9N44tDyXSqnqfG/view?usp=sharing'\n",
        "5\n",
        "file_id = orig_url.split('/')[-2]\n",
        "6\n",
        "dwn_url='https://drive.google.com/uc?export=download&id=' + file_id\n",
        "7\n",
        "url = requests.get(dwn_url).text\n",
        "8\n",
        "csv_raw = StringIO(url)\n",
        "9\n",
        "dfs = pd.read_csv(csv_raw,low_memory=False)\n",
        "10\n",
        "dfs.shape\n"
      ],
      "execution_count": null,
      "outputs": [
        {
          "output_type": "execute_result",
          "data": {
            "text/plain": [
              "(68919, 11)"
            ]
          },
          "metadata": {
            "tags": []
          },
          "execution_count": 2
        }
      ]
    },
    {
      "cell_type": "code",
      "metadata": {
        "id": "KLwTxzKR-WRK"
      },
      "source": [
        "# Function retruns data frame Pass google drive CSV File, and this will give the dataframe for that year\n",
        "def getCSVdatagoogleDrvie(urlString):\n",
        "    orig_url=urlString\n",
        "    file_id = orig_url.split('/')[-2]\n",
        "    dwn_url='https://drive.google.com/uc?export=download&id=' + file_id\n",
        "    url = requests.get(dwn_url).text\n",
        "    csv_raw = StringIO(url)\n",
        "    dfs = pd.read_csv(csv_raw,low_memory=False, thousands=',')\n",
        "    return dfs     "
      ],
      "execution_count": null,
      "outputs": []
    },
    {
      "cell_type": "code",
      "metadata": {
        "id": "DNlZKYON-d7L"
      },
      "source": [
        "#get H1b approval for all the years\n",
        "dfH1b2009=getCSVdatagoogleDrvie('https://drive.google.com/file/d/1VryNHYq8Irf3N8efgA9N44tDyXSqnqfG/view?usp=sharing')\n",
        "dfH1b2010=getCSVdatagoogleDrvie('https://drive.google.com/file/d/1a50j2a2hqmQOWE_NV2lQWwI4B6Ja4nFZ/view?usp=sharing')\n",
        "dfH1b2011=getCSVdatagoogleDrvie('https://drive.google.com/file/d/1pzj_rXKWiGU3_ZPh0pHdS6o_4oFUimNg/view?usp=sharing')\n",
        "dfH1b2012=getCSVdatagoogleDrvie('https://drive.google.com/file/d/1WU1DC_4Tu_dADJDpnCiilhpmyN2DPJ9j/view?usp=sharing')\n",
        "dfH1b2013=getCSVdatagoogleDrvie('https://drive.google.com/file/d/16XLS0TnPmVdGEVqEVtMxlgYca2EQe6ze/view?usp=sharing')\n",
        "dfH1b2014=getCSVdatagoogleDrvie('https://drive.google.com/file/d/1i2iigYUf7YjcYpHemIe6FpcLw3T38h76/view?usp=sharing')\n",
        "dfH1b2015=getCSVdatagoogleDrvie('https://drive.google.com/file/d/1U7UKhKBZ-X8E_MwZ8acKvisOMUm6YuIG/view?usp=sharing')\n",
        "dfH1b2016=getCSVdatagoogleDrvie('https://drive.google.com/file/d/1iKZBVjFuanK7tlaF97CZEr6qtNj6vVz6/view?usp=sharing')\n",
        "dfH1b2017=getCSVdatagoogleDrvie('https://drive.google.com/file/d/1kcSAIEgHFBWyoazPYZuSdvIHwbEMVM1q/view?usp=sharing')\n",
        "dfH1b2018=getCSVdatagoogleDrvie('https://drive.google.com/file/d/1W3rvpHcoB705lk_iO0_jxFu7AZCJiEZz/view?usp=sharing')\n",
        "dfH1b2019=getCSVdatagoogleDrvie('https://drive.google.com/file/d/1DRM0sYK5_EkuxJSlyYdrxZrP8zIzQaTs/view?usp=sharing')"
      ],
      "execution_count": null,
      "outputs": []
    },
    {
      "cell_type": "code",
      "metadata": {
        "id": "1HZmvCRe-kEW"
      },
      "source": [
        "#Find sum of Initial approvals versus the Continuing Approvals\n",
        "#give trouble comma was coming as object\n",
        "\n",
        "temp1 = dfH1b2011[['Fiscal Year','Initial Approvals', 'Continuing Approvals']]\n",
        "#Total = dfH1b2011['Initial Approvals'].sum()\n",
        "#Totalz = dfH1b2011['Initial Denials'].sum()\n",
        "#print (Totalz)"
      ],
      "execution_count": null,
      "outputs": []
    },
    {
      "cell_type": "code",
      "metadata": {
        "id": "BWmg159D-oaG"
      },
      "source": [
        "#Combine all the dataframe\n",
        "data_frameszz = pd.concat([dfH1b2019,dfH1b2018,dfH1b2017,dfH1b2016,dfH1b2015,\n",
        "                           dfH1b2014,dfH1b2013,dfH1b2012,dfH1b2011\n",
        "                          ,dfH1b2010,dfH1b2009],ignore_index=True)\n",
        "data_frameszz\n",
        "temp1 = data_frameszz[['Fiscal Year','Initial Approvals', 'Continuing Approvals']]"
      ],
      "execution_count": null,
      "outputs": []
    },
    {
      "cell_type": "code",
      "metadata": {
        "id": "24UtmldG-wOu",
        "outputId": "2b613dda-89da-461e-e1c8-54cecc6a3c99",
        "colab": {
          "base_uri": "https://localhost:8080/",
          "height": 475
        }
      },
      "source": [
        "CountOfH1bVisa= temp1.groupby(\"Fiscal Year\")['Initial Approvals','Continuing Approvals'].sum()\n",
        "CountOfH1bVisa"
      ],
      "execution_count": null,
      "outputs": [
        {
          "output_type": "stream",
          "text": [
            "/usr/local/lib/python3.6/dist-packages/ipykernel_launcher.py:1: FutureWarning: Indexing with multiple keys (implicitly converted to a tuple of keys) will be deprecated, use a list instead.\n",
            "  \"\"\"Entry point for launching an IPython kernel.\n"
          ],
          "name": "stderr"
        },
        {
          "output_type": "execute_result",
          "data": {
            "text/html": [
              "<div>\n",
              "<style scoped>\n",
              "    .dataframe tbody tr th:only-of-type {\n",
              "        vertical-align: middle;\n",
              "    }\n",
              "\n",
              "    .dataframe tbody tr th {\n",
              "        vertical-align: top;\n",
              "    }\n",
              "\n",
              "    .dataframe thead th {\n",
              "        text-align: right;\n",
              "    }\n",
              "</style>\n",
              "<table border=\"1\" class=\"dataframe\">\n",
              "  <thead>\n",
              "    <tr style=\"text-align: right;\">\n",
              "      <th></th>\n",
              "      <th>Initial Approvals</th>\n",
              "      <th>Continuing Approvals</th>\n",
              "    </tr>\n",
              "    <tr>\n",
              "      <th>Fiscal Year</th>\n",
              "      <th></th>\n",
              "      <th></th>\n",
              "    </tr>\n",
              "  </thead>\n",
              "  <tbody>\n",
              "    <tr>\n",
              "      <th>2009</th>\n",
              "      <td>99790</td>\n",
              "      <td>127687</td>\n",
              "    </tr>\n",
              "    <tr>\n",
              "      <th>2010</th>\n",
              "      <td>84038</td>\n",
              "      <td>108935</td>\n",
              "    </tr>\n",
              "    <tr>\n",
              "      <th>2011</th>\n",
              "      <td>114863</td>\n",
              "      <td>155186</td>\n",
              "    </tr>\n",
              "    <tr>\n",
              "      <th>2012</th>\n",
              "      <td>140809</td>\n",
              "      <td>129023</td>\n",
              "    </tr>\n",
              "    <tr>\n",
              "      <th>2013</th>\n",
              "      <td>130736</td>\n",
              "      <td>164538</td>\n",
              "    </tr>\n",
              "    <tr>\n",
              "      <th>2014</th>\n",
              "      <td>130616</td>\n",
              "      <td>202190</td>\n",
              "    </tr>\n",
              "    <tr>\n",
              "      <th>2015</th>\n",
              "      <td>111846</td>\n",
              "      <td>176656</td>\n",
              "    </tr>\n",
              "    <tr>\n",
              "      <th>2016</th>\n",
              "      <td>105092</td>\n",
              "      <td>252120</td>\n",
              "    </tr>\n",
              "    <tr>\n",
              "      <th>2017</th>\n",
              "      <td>96166</td>\n",
              "      <td>277229</td>\n",
              "    </tr>\n",
              "    <tr>\n",
              "      <th>2018</th>\n",
              "      <td>87889</td>\n",
              "      <td>247072</td>\n",
              "    </tr>\n",
              "    <tr>\n",
              "      <th>2019</th>\n",
              "      <td>132967</td>\n",
              "      <td>256356</td>\n",
              "    </tr>\n",
              "  </tbody>\n",
              "</table>\n",
              "</div>"
            ],
            "text/plain": [
              "             Initial Approvals  Continuing Approvals\n",
              "Fiscal Year                                         \n",
              "2009                     99790                127687\n",
              "2010                     84038                108935\n",
              "2011                    114863                155186\n",
              "2012                    140809                129023\n",
              "2013                    130736                164538\n",
              "2014                    130616                202190\n",
              "2015                    111846                176656\n",
              "2016                    105092                252120\n",
              "2017                     96166                277229\n",
              "2018                     87889                247072\n",
              "2019                    132967                256356"
            ]
          },
          "metadata": {
            "tags": []
          },
          "execution_count": 7
        }
      ]
    },
    {
      "cell_type": "code",
      "metadata": {
        "id": "RSxL-Y5t-2pH",
        "outputId": "aaf1d84f-c926-42bd-e22b-403a7253b797",
        "colab": {
          "base_uri": "https://localhost:8080/",
          "height": 467
        }
      },
      "source": [
        "import matplotlib.pyplot as plt\n",
        "_ = CountOfH1bVisa.plot.bar()\n",
        "fig=plt.gcf()\n",
        "fig.set_size_inches(25,8)\n",
        "_=plt.ylabel('Count of Employment Based (H1B) Visa',fontsize=20)\n",
        "_=plt.xlabel('Fisical Year',fontsize=20)"
      ],
      "execution_count": null,
      "outputs": [
        {
          "output_type": "display_data",
          "data": {
            "image/png": "[encoded data removed]",
            "text/plain": [
              "<Figure size 1800x576 with 1 Axes>"
            ]
          },
          "metadata": {
            "tags": [],
            "needs_background": "light"
          }
        }
      ]
    }
  ]
}